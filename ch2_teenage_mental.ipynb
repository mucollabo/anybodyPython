{
 "cells": [
  {
   "cell_type": "code",
   "execution_count": 25,
   "metadata": {
    "collapsed": true
   },
   "outputs": [],
   "source": [
    "import pandas as pd"
   ]
  },
  {
   "cell_type": "code",
   "execution_count": 26,
   "outputs": [
    {
     "data": {
      "text/plain": "DatetimeIndex(['2019-03-01', '2019-03-02', '2019-03-03', '2019-03-04',\n               '2019-03-05', '2019-03-06'],\n              dtype='datetime64[ns]', freq='D')"
     },
     "execution_count": 26,
     "metadata": {},
     "output_type": "execute_result"
    }
   ],
   "source": [
    "dates = pd.date_range('20190301', periods=6)\n",
    "dates"
   ],
   "metadata": {
    "collapsed": false,
    "pycharm": {
     "name": "#%%\n"
    }
   }
  },
  {
   "cell_type": "code",
   "execution_count": 27,
   "outputs": [
    {
     "data": {
      "text/plain": "                   A         B         C         D\n2019-03-01  0.764196  1.225325  0.098304 -1.195356\n2019-03-02  0.416285 -2.177370  1.627735 -0.291489\n2019-03-03  1.383498  1.354793  0.468865 -0.315142\n2019-03-04  0.567844 -0.838652  0.067041  0.471247\n2019-03-05 -0.874267  0.306723  0.397935  0.098773\n2019-03-06 -1.553379  1.078355  0.262755  0.211772",
      "text/html": "<div>\n<style scoped>\n    .dataframe tbody tr th:only-of-type {\n        vertical-align: middle;\n    }\n\n    .dataframe tbody tr th {\n        vertical-align: top;\n    }\n\n    .dataframe thead th {\n        text-align: right;\n    }\n</style>\n<table border=\"1\" class=\"dataframe\">\n  <thead>\n    <tr style=\"text-align: right;\">\n      <th></th>\n      <th>A</th>\n      <th>B</th>\n      <th>C</th>\n      <th>D</th>\n    </tr>\n  </thead>\n  <tbody>\n    <tr>\n      <th>2019-03-01</th>\n      <td>0.764196</td>\n      <td>1.225325</td>\n      <td>0.098304</td>\n      <td>-1.195356</td>\n    </tr>\n    <tr>\n      <th>2019-03-02</th>\n      <td>0.416285</td>\n      <td>-2.177370</td>\n      <td>1.627735</td>\n      <td>-0.291489</td>\n    </tr>\n    <tr>\n      <th>2019-03-03</th>\n      <td>1.383498</td>\n      <td>1.354793</td>\n      <td>0.468865</td>\n      <td>-0.315142</td>\n    </tr>\n    <tr>\n      <th>2019-03-04</th>\n      <td>0.567844</td>\n      <td>-0.838652</td>\n      <td>0.067041</td>\n      <td>0.471247</td>\n    </tr>\n    <tr>\n      <th>2019-03-05</th>\n      <td>-0.874267</td>\n      <td>0.306723</td>\n      <td>0.397935</td>\n      <td>0.098773</td>\n    </tr>\n    <tr>\n      <th>2019-03-06</th>\n      <td>-1.553379</td>\n      <td>1.078355</td>\n      <td>0.262755</td>\n      <td>0.211772</td>\n    </tr>\n  </tbody>\n</table>\n</div>"
     },
     "execution_count": 27,
     "metadata": {},
     "output_type": "execute_result"
    }
   ],
   "source": [
    "import numpy as np\n",
    "df = pd.DataFrame(np.random.randn(6, 4), index=dates, columns=['A', 'B', 'C', 'D'])\n",
    "df"
   ],
   "metadata": {
    "collapsed": false,
    "pycharm": {
     "name": "#%%\n"
    }
   }
  },
  {
   "cell_type": "code",
   "execution_count": 28,
   "outputs": [
    {
     "data": {
      "text/plain": "pandas.core.frame.DataFrame"
     },
     "execution_count": 28,
     "metadata": {},
     "output_type": "execute_result"
    }
   ],
   "source": [
    "type(df)"
   ],
   "metadata": {
    "collapsed": false,
    "pycharm": {
     "name": "#%%\n"
    }
   }
  },
  {
   "cell_type": "code",
   "execution_count": 29,
   "outputs": [
    {
     "data": {
      "text/plain": "Index(['A', 'B', 'C', 'D'], dtype='object')"
     },
     "execution_count": 29,
     "metadata": {},
     "output_type": "execute_result"
    }
   ],
   "source": [
    "df.columns"
   ],
   "metadata": {
    "collapsed": false,
    "pycharm": {
     "name": "#%%\n"
    }
   }
  },
  {
   "cell_type": "code",
   "execution_count": 30,
   "outputs": [
    {
     "data": {
      "text/plain": "DatetimeIndex(['2019-03-01', '2019-03-02', '2019-03-03', '2019-03-04',\n               '2019-03-05', '2019-03-06'],\n              dtype='datetime64[ns]', freq='D')"
     },
     "execution_count": 30,
     "metadata": {},
     "output_type": "execute_result"
    }
   ],
   "source": [
    "df.index"
   ],
   "metadata": {
    "collapsed": false,
    "pycharm": {
     "name": "#%%\n"
    }
   }
  },
  {
   "cell_type": "code",
   "execution_count": 31,
   "outputs": [
    {
     "data": {
      "text/plain": "array([[ 0.76419571,  1.22532537,  0.09830359, -1.19535588],\n       [ 0.41628459, -2.17736967,  1.62773519, -0.29148907],\n       [ 1.38349831,  1.35479314,  0.46886531, -0.31514194],\n       [ 0.56784425, -0.83865202,  0.06704077,  0.47124678],\n       [-0.87426702,  0.30672342,  0.39793458,  0.09877309],\n       [-1.55337928,  1.07835541,  0.26275516,  0.21177244]])"
     },
     "execution_count": 31,
     "metadata": {},
     "output_type": "execute_result"
    }
   ],
   "source": [
    "df.values"
   ],
   "metadata": {
    "collapsed": false,
    "pycharm": {
     "name": "#%%\n"
    }
   }
  },
  {
   "cell_type": "code",
   "execution_count": 32,
   "outputs": [
    {
     "data": {
      "text/plain": "              A         B         C         D\ncount  6.000000  6.000000  6.000000  6.000000\nmean   0.117363  0.158196  0.487106 -0.170032\nstd    1.103493  1.406267  0.580909  0.585895\nmin   -1.553379 -2.177370  0.067041 -1.195356\n25%   -0.551629 -0.552308  0.139416 -0.309229\n50%    0.492064  0.692539  0.330345 -0.096358\n75%    0.715108  1.188583  0.451133  0.183523\nmax    1.383498  1.354793  1.627735  0.471247",
      "text/html": "<div>\n<style scoped>\n    .dataframe tbody tr th:only-of-type {\n        vertical-align: middle;\n    }\n\n    .dataframe tbody tr th {\n        vertical-align: top;\n    }\n\n    .dataframe thead th {\n        text-align: right;\n    }\n</style>\n<table border=\"1\" class=\"dataframe\">\n  <thead>\n    <tr style=\"text-align: right;\">\n      <th></th>\n      <th>A</th>\n      <th>B</th>\n      <th>C</th>\n      <th>D</th>\n    </tr>\n  </thead>\n  <tbody>\n    <tr>\n      <th>count</th>\n      <td>6.000000</td>\n      <td>6.000000</td>\n      <td>6.000000</td>\n      <td>6.000000</td>\n    </tr>\n    <tr>\n      <th>mean</th>\n      <td>0.117363</td>\n      <td>0.158196</td>\n      <td>0.487106</td>\n      <td>-0.170032</td>\n    </tr>\n    <tr>\n      <th>std</th>\n      <td>1.103493</td>\n      <td>1.406267</td>\n      <td>0.580909</td>\n      <td>0.585895</td>\n    </tr>\n    <tr>\n      <th>min</th>\n      <td>-1.553379</td>\n      <td>-2.177370</td>\n      <td>0.067041</td>\n      <td>-1.195356</td>\n    </tr>\n    <tr>\n      <th>25%</th>\n      <td>-0.551629</td>\n      <td>-0.552308</td>\n      <td>0.139416</td>\n      <td>-0.309229</td>\n    </tr>\n    <tr>\n      <th>50%</th>\n      <td>0.492064</td>\n      <td>0.692539</td>\n      <td>0.330345</td>\n      <td>-0.096358</td>\n    </tr>\n    <tr>\n      <th>75%</th>\n      <td>0.715108</td>\n      <td>1.188583</td>\n      <td>0.451133</td>\n      <td>0.183523</td>\n    </tr>\n    <tr>\n      <th>max</th>\n      <td>1.383498</td>\n      <td>1.354793</td>\n      <td>1.627735</td>\n      <td>0.471247</td>\n    </tr>\n  </tbody>\n</table>\n</div>"
     },
     "execution_count": 32,
     "metadata": {},
     "output_type": "execute_result"
    }
   ],
   "source": [
    "df.describe()"
   ],
   "metadata": {
    "collapsed": false,
    "pycharm": {
     "name": "#%%\n"
    }
   }
  },
  {
   "cell_type": "code",
   "execution_count": 33,
   "outputs": [
    {
     "data": {
      "text/plain": "                   A         B         C         D\n2019-03-06 -1.553379  1.078355  0.262755  0.211772\n2019-03-05 -0.874267  0.306723  0.397935  0.098773\n2019-03-02  0.416285 -2.177370  1.627735 -0.291489\n2019-03-04  0.567844 -0.838652  0.067041  0.471247\n2019-03-01  0.764196  1.225325  0.098304 -1.195356\n2019-03-03  1.383498  1.354793  0.468865 -0.315142",
      "text/html": "<div>\n<style scoped>\n    .dataframe tbody tr th:only-of-type {\n        vertical-align: middle;\n    }\n\n    .dataframe tbody tr th {\n        vertical-align: top;\n    }\n\n    .dataframe thead th {\n        text-align: right;\n    }\n</style>\n<table border=\"1\" class=\"dataframe\">\n  <thead>\n    <tr style=\"text-align: right;\">\n      <th></th>\n      <th>A</th>\n      <th>B</th>\n      <th>C</th>\n      <th>D</th>\n    </tr>\n  </thead>\n  <tbody>\n    <tr>\n      <th>2019-03-06</th>\n      <td>-1.553379</td>\n      <td>1.078355</td>\n      <td>0.262755</td>\n      <td>0.211772</td>\n    </tr>\n    <tr>\n      <th>2019-03-05</th>\n      <td>-0.874267</td>\n      <td>0.306723</td>\n      <td>0.397935</td>\n      <td>0.098773</td>\n    </tr>\n    <tr>\n      <th>2019-03-02</th>\n      <td>0.416285</td>\n      <td>-2.177370</td>\n      <td>1.627735</td>\n      <td>-0.291489</td>\n    </tr>\n    <tr>\n      <th>2019-03-04</th>\n      <td>0.567844</td>\n      <td>-0.838652</td>\n      <td>0.067041</td>\n      <td>0.471247</td>\n    </tr>\n    <tr>\n      <th>2019-03-01</th>\n      <td>0.764196</td>\n      <td>1.225325</td>\n      <td>0.098304</td>\n      <td>-1.195356</td>\n    </tr>\n    <tr>\n      <th>2019-03-03</th>\n      <td>1.383498</td>\n      <td>1.354793</td>\n      <td>0.468865</td>\n      <td>-0.315142</td>\n    </tr>\n  </tbody>\n</table>\n</div>"
     },
     "execution_count": 33,
     "metadata": {},
     "output_type": "execute_result"
    }
   ],
   "source": [
    "df.sort_values(by='A')"
   ],
   "metadata": {
    "collapsed": false,
    "pycharm": {
     "name": "#%%\n"
    }
   }
  },
  {
   "cell_type": "code",
   "execution_count": 34,
   "outputs": [
    {
     "data": {
      "text/plain": "                   A         B         C         D\n2019-03-03  1.383498  1.354793  0.468865 -0.315142\n2019-03-01  0.764196  1.225325  0.098304 -1.195356\n2019-03-04  0.567844 -0.838652  0.067041  0.471247\n2019-03-02  0.416285 -2.177370  1.627735 -0.291489\n2019-03-05 -0.874267  0.306723  0.397935  0.098773\n2019-03-06 -1.553379  1.078355  0.262755  0.211772",
      "text/html": "<div>\n<style scoped>\n    .dataframe tbody tr th:only-of-type {\n        vertical-align: middle;\n    }\n\n    .dataframe tbody tr th {\n        vertical-align: top;\n    }\n\n    .dataframe thead th {\n        text-align: right;\n    }\n</style>\n<table border=\"1\" class=\"dataframe\">\n  <thead>\n    <tr style=\"text-align: right;\">\n      <th></th>\n      <th>A</th>\n      <th>B</th>\n      <th>C</th>\n      <th>D</th>\n    </tr>\n  </thead>\n  <tbody>\n    <tr>\n      <th>2019-03-03</th>\n      <td>1.383498</td>\n      <td>1.354793</td>\n      <td>0.468865</td>\n      <td>-0.315142</td>\n    </tr>\n    <tr>\n      <th>2019-03-01</th>\n      <td>0.764196</td>\n      <td>1.225325</td>\n      <td>0.098304</td>\n      <td>-1.195356</td>\n    </tr>\n    <tr>\n      <th>2019-03-04</th>\n      <td>0.567844</td>\n      <td>-0.838652</td>\n      <td>0.067041</td>\n      <td>0.471247</td>\n    </tr>\n    <tr>\n      <th>2019-03-02</th>\n      <td>0.416285</td>\n      <td>-2.177370</td>\n      <td>1.627735</td>\n      <td>-0.291489</td>\n    </tr>\n    <tr>\n      <th>2019-03-05</th>\n      <td>-0.874267</td>\n      <td>0.306723</td>\n      <td>0.397935</td>\n      <td>0.098773</td>\n    </tr>\n    <tr>\n      <th>2019-03-06</th>\n      <td>-1.553379</td>\n      <td>1.078355</td>\n      <td>0.262755</td>\n      <td>0.211772</td>\n    </tr>\n  </tbody>\n</table>\n</div>"
     },
     "execution_count": 34,
     "metadata": {},
     "output_type": "execute_result"
    }
   ],
   "source": [
    "df.sort_values(by='A', ascending=False)"
   ],
   "metadata": {
    "collapsed": false,
    "pycharm": {
     "name": "#%%\n"
    }
   }
  },
  {
   "cell_type": "code",
   "execution_count": 35,
   "outputs": [
    {
     "data": {
      "text/plain": "2019-03-01    0.764196\n2019-03-02    0.416285\n2019-03-03    1.383498\n2019-03-04    0.567844\n2019-03-05   -0.874267\n2019-03-06   -1.553379\nFreq: D, Name: A, dtype: float64"
     },
     "execution_count": 35,
     "metadata": {},
     "output_type": "execute_result"
    }
   ],
   "source": [
    "df['A']"
   ],
   "metadata": {
    "collapsed": false,
    "pycharm": {
     "name": "#%%\n"
    }
   }
  },
  {
   "cell_type": "code",
   "execution_count": 36,
   "outputs": [
    {
     "data": {
      "text/plain": "pandas.core.series.Series"
     },
     "execution_count": 36,
     "metadata": {},
     "output_type": "execute_result"
    }
   ],
   "source": [
    "type(df['A'])"
   ],
   "metadata": {
    "collapsed": false,
    "pycharm": {
     "name": "#%%\n"
    }
   }
  },
  {
   "cell_type": "code",
   "execution_count": 37,
   "outputs": [
    {
     "data": {
      "text/plain": "                   A         B         C         D\n2019-03-01  0.764196  1.225325  0.098304 -1.195356\n2019-03-02  0.416285 -2.177370  1.627735 -0.291489\n2019-03-03  1.383498  1.354793  0.468865 -0.315142",
      "text/html": "<div>\n<style scoped>\n    .dataframe tbody tr th:only-of-type {\n        vertical-align: middle;\n    }\n\n    .dataframe tbody tr th {\n        vertical-align: top;\n    }\n\n    .dataframe thead th {\n        text-align: right;\n    }\n</style>\n<table border=\"1\" class=\"dataframe\">\n  <thead>\n    <tr style=\"text-align: right;\">\n      <th></th>\n      <th>A</th>\n      <th>B</th>\n      <th>C</th>\n      <th>D</th>\n    </tr>\n  </thead>\n  <tbody>\n    <tr>\n      <th>2019-03-01</th>\n      <td>0.764196</td>\n      <td>1.225325</td>\n      <td>0.098304</td>\n      <td>-1.195356</td>\n    </tr>\n    <tr>\n      <th>2019-03-02</th>\n      <td>0.416285</td>\n      <td>-2.177370</td>\n      <td>1.627735</td>\n      <td>-0.291489</td>\n    </tr>\n    <tr>\n      <th>2019-03-03</th>\n      <td>1.383498</td>\n      <td>1.354793</td>\n      <td>0.468865</td>\n      <td>-0.315142</td>\n    </tr>\n  </tbody>\n</table>\n</div>"
     },
     "execution_count": 37,
     "metadata": {},
     "output_type": "execute_result"
    }
   ],
   "source": [
    "df[0:3]"
   ],
   "metadata": {
    "collapsed": false,
    "pycharm": {
     "name": "#%%\n"
    }
   }
  },
  {
   "cell_type": "code",
   "execution_count": 38,
   "outputs": [
    {
     "data": {
      "text/plain": "A    0.764196\nB    1.225325\nC    0.098304\nD   -1.195356\nName: 2019-03-01 00:00:00, dtype: float64"
     },
     "execution_count": 38,
     "metadata": {},
     "output_type": "execute_result"
    }
   ],
   "source": [
    "df.loc['2019-03-01']"
   ],
   "metadata": {
    "collapsed": false,
    "pycharm": {
     "name": "#%%\n"
    }
   }
  },
  {
   "cell_type": "code",
   "execution_count": 39,
   "outputs": [
    {
     "data": {
      "text/plain": "A    0.764196\nName: 2019-03-01 00:00:00, dtype: float64"
     },
     "execution_count": 39,
     "metadata": {},
     "output_type": "execute_result"
    }
   ],
   "source": [
    "df.loc['2019-03-01', ['A']]"
   ],
   "metadata": {
    "collapsed": false,
    "pycharm": {
     "name": "#%%\n"
    }
   }
  },
  {
   "cell_type": "code",
   "execution_count": 40,
   "outputs": [
    {
     "data": {
      "text/plain": "A    0.764196\nB    1.225325\nName: 2019-03-01 00:00:00, dtype: float64"
     },
     "execution_count": 40,
     "metadata": {},
     "output_type": "execute_result"
    }
   ],
   "source": [
    "df.loc['2019-03-01', ['A', 'B']]"
   ],
   "metadata": {
    "collapsed": false,
    "pycharm": {
     "name": "#%%\n"
    }
   }
  },
  {
   "cell_type": "code",
   "execution_count": 41,
   "outputs": [
    {
     "data": {
      "text/plain": "                   A         B\n2019-03-01  0.764196  1.225325\n2019-03-02  0.416285 -2.177370",
      "text/html": "<div>\n<style scoped>\n    .dataframe tbody tr th:only-of-type {\n        vertical-align: middle;\n    }\n\n    .dataframe tbody tr th {\n        vertical-align: top;\n    }\n\n    .dataframe thead th {\n        text-align: right;\n    }\n</style>\n<table border=\"1\" class=\"dataframe\">\n  <thead>\n    <tr style=\"text-align: right;\">\n      <th></th>\n      <th>A</th>\n      <th>B</th>\n    </tr>\n  </thead>\n  <tbody>\n    <tr>\n      <th>2019-03-01</th>\n      <td>0.764196</td>\n      <td>1.225325</td>\n    </tr>\n    <tr>\n      <th>2019-03-02</th>\n      <td>0.416285</td>\n      <td>-2.177370</td>\n    </tr>\n  </tbody>\n</table>\n</div>"
     },
     "execution_count": 41,
     "metadata": {},
     "output_type": "execute_result"
    }
   ],
   "source": [
    "df.loc['2019-03-01':'2019-03-02', ['A', 'B']]"
   ],
   "metadata": {
    "collapsed": false,
    "pycharm": {
     "name": "#%%\n"
    }
   }
  },
  {
   "cell_type": "code",
   "execution_count": 42,
   "outputs": [
    {
     "data": {
      "text/plain": "                   A         B\n2019-03-01  0.764196  1.225325\n2019-03-02  0.416285 -2.177370\n2019-03-03  1.383498  1.354793\n2019-03-04  0.567844 -0.838652\n2019-03-05 -0.874267  0.306723\n2019-03-06 -1.553379  1.078355",
      "text/html": "<div>\n<style scoped>\n    .dataframe tbody tr th:only-of-type {\n        vertical-align: middle;\n    }\n\n    .dataframe tbody tr th {\n        vertical-align: top;\n    }\n\n    .dataframe thead th {\n        text-align: right;\n    }\n</style>\n<table border=\"1\" class=\"dataframe\">\n  <thead>\n    <tr style=\"text-align: right;\">\n      <th></th>\n      <th>A</th>\n      <th>B</th>\n    </tr>\n  </thead>\n  <tbody>\n    <tr>\n      <th>2019-03-01</th>\n      <td>0.764196</td>\n      <td>1.225325</td>\n    </tr>\n    <tr>\n      <th>2019-03-02</th>\n      <td>0.416285</td>\n      <td>-2.177370</td>\n    </tr>\n    <tr>\n      <th>2019-03-03</th>\n      <td>1.383498</td>\n      <td>1.354793</td>\n    </tr>\n    <tr>\n      <th>2019-03-04</th>\n      <td>0.567844</td>\n      <td>-0.838652</td>\n    </tr>\n    <tr>\n      <th>2019-03-05</th>\n      <td>-0.874267</td>\n      <td>0.306723</td>\n    </tr>\n    <tr>\n      <th>2019-03-06</th>\n      <td>-1.553379</td>\n      <td>1.078355</td>\n    </tr>\n  </tbody>\n</table>\n</div>"
     },
     "execution_count": 42,
     "metadata": {},
     "output_type": "execute_result"
    }
   ],
   "source": [
    "df.loc[:, ['A', 'B']]"
   ],
   "metadata": {
    "collapsed": false,
    "pycharm": {
     "name": "#%%\n"
    }
   }
  },
  {
   "cell_type": "code",
   "execution_count": 43,
   "outputs": [
    {
     "data": {
      "text/plain": "                   A         B         C         D\n2019-03-01  0.764196  1.225325  0.098304 -1.195356\n2019-03-02  0.416285 -2.177370  1.627735 -0.291489",
      "text/html": "<div>\n<style scoped>\n    .dataframe tbody tr th:only-of-type {\n        vertical-align: middle;\n    }\n\n    .dataframe tbody tr th {\n        vertical-align: top;\n    }\n\n    .dataframe thead th {\n        text-align: right;\n    }\n</style>\n<table border=\"1\" class=\"dataframe\">\n  <thead>\n    <tr style=\"text-align: right;\">\n      <th></th>\n      <th>A</th>\n      <th>B</th>\n      <th>C</th>\n      <th>D</th>\n    </tr>\n  </thead>\n  <tbody>\n    <tr>\n      <th>2019-03-01</th>\n      <td>0.764196</td>\n      <td>1.225325</td>\n      <td>0.098304</td>\n      <td>-1.195356</td>\n    </tr>\n    <tr>\n      <th>2019-03-02</th>\n      <td>0.416285</td>\n      <td>-2.177370</td>\n      <td>1.627735</td>\n      <td>-0.291489</td>\n    </tr>\n  </tbody>\n</table>\n</div>"
     },
     "execution_count": 43,
     "metadata": {},
     "output_type": "execute_result"
    }
   ],
   "source": [
    "df.iloc[0:2]"
   ],
   "metadata": {
    "collapsed": false,
    "pycharm": {
     "name": "#%%\n"
    }
   }
  },
  {
   "cell_type": "code",
   "execution_count": 44,
   "outputs": [
    {
     "data": {
      "text/plain": "                   A         B\n2019-03-01  0.764196  1.225325\n2019-03-02  0.416285 -2.177370",
      "text/html": "<div>\n<style scoped>\n    .dataframe tbody tr th:only-of-type {\n        vertical-align: middle;\n    }\n\n    .dataframe tbody tr th {\n        vertical-align: top;\n    }\n\n    .dataframe thead th {\n        text-align: right;\n    }\n</style>\n<table border=\"1\" class=\"dataframe\">\n  <thead>\n    <tr style=\"text-align: right;\">\n      <th></th>\n      <th>A</th>\n      <th>B</th>\n    </tr>\n  </thead>\n  <tbody>\n    <tr>\n      <th>2019-03-01</th>\n      <td>0.764196</td>\n      <td>1.225325</td>\n    </tr>\n    <tr>\n      <th>2019-03-02</th>\n      <td>0.416285</td>\n      <td>-2.177370</td>\n    </tr>\n  </tbody>\n</table>\n</div>"
     },
     "execution_count": 44,
     "metadata": {},
     "output_type": "execute_result"
    }
   ],
   "source": [
    "df.iloc[0:2, 0:2]"
   ],
   "metadata": {
    "collapsed": false,
    "pycharm": {
     "name": "#%%\n"
    }
   }
  },
  {
   "cell_type": "code",
   "execution_count": 45,
   "outputs": [
    {
     "data": {
      "text/plain": "                   A         B\n2019-03-01  0.764196  1.225325\n2019-03-02  0.416285 -2.177370\n2019-03-04  0.567844 -0.838652",
      "text/html": "<div>\n<style scoped>\n    .dataframe tbody tr th:only-of-type {\n        vertical-align: middle;\n    }\n\n    .dataframe tbody tr th {\n        vertical-align: top;\n    }\n\n    .dataframe thead th {\n        text-align: right;\n    }\n</style>\n<table border=\"1\" class=\"dataframe\">\n  <thead>\n    <tr style=\"text-align: right;\">\n      <th></th>\n      <th>A</th>\n      <th>B</th>\n    </tr>\n  </thead>\n  <tbody>\n    <tr>\n      <th>2019-03-01</th>\n      <td>0.764196</td>\n      <td>1.225325</td>\n    </tr>\n    <tr>\n      <th>2019-03-02</th>\n      <td>0.416285</td>\n      <td>-2.177370</td>\n    </tr>\n    <tr>\n      <th>2019-03-04</th>\n      <td>0.567844</td>\n      <td>-0.838652</td>\n    </tr>\n  </tbody>\n</table>\n</div>"
     },
     "execution_count": 45,
     "metadata": {},
     "output_type": "execute_result"
    }
   ],
   "source": [
    "df.iloc[[0, 1, 3], 0:2]"
   ],
   "metadata": {
    "collapsed": false,
    "pycharm": {
     "name": "#%%\n"
    }
   }
  },
  {
   "cell_type": "code",
   "execution_count": 46,
   "outputs": [
    {
     "data": {
      "text/plain": "                   A         B         C         D\n2019-03-01  0.764196  1.225325  0.098304 -1.195356\n2019-03-02  0.416285 -2.177370  1.627735 -0.291489\n2019-03-04  0.567844 -0.838652  0.067041  0.471247",
      "text/html": "<div>\n<style scoped>\n    .dataframe tbody tr th:only-of-type {\n        vertical-align: middle;\n    }\n\n    .dataframe tbody tr th {\n        vertical-align: top;\n    }\n\n    .dataframe thead th {\n        text-align: right;\n    }\n</style>\n<table border=\"1\" class=\"dataframe\">\n  <thead>\n    <tr style=\"text-align: right;\">\n      <th></th>\n      <th>A</th>\n      <th>B</th>\n      <th>C</th>\n      <th>D</th>\n    </tr>\n  </thead>\n  <tbody>\n    <tr>\n      <th>2019-03-01</th>\n      <td>0.764196</td>\n      <td>1.225325</td>\n      <td>0.098304</td>\n      <td>-1.195356</td>\n    </tr>\n    <tr>\n      <th>2019-03-02</th>\n      <td>0.416285</td>\n      <td>-2.177370</td>\n      <td>1.627735</td>\n      <td>-0.291489</td>\n    </tr>\n    <tr>\n      <th>2019-03-04</th>\n      <td>0.567844</td>\n      <td>-0.838652</td>\n      <td>0.067041</td>\n      <td>0.471247</td>\n    </tr>\n  </tbody>\n</table>\n</div>"
     },
     "execution_count": 46,
     "metadata": {},
     "output_type": "execute_result"
    }
   ],
   "source": [
    "df.iloc[[0, 1, 3]]"
   ],
   "metadata": {
    "collapsed": false,
    "pycharm": {
     "name": "#%%\n"
    }
   }
  },
  {
   "cell_type": "code",
   "execution_count": 47,
   "outputs": [
    {
     "data": {
      "text/plain": "2019-03-01     True\n2019-03-02     True\n2019-03-03     True\n2019-03-04     True\n2019-03-05    False\n2019-03-06    False\nFreq: D, Name: A, dtype: bool"
     },
     "execution_count": 47,
     "metadata": {},
     "output_type": "execute_result"
    }
   ],
   "source": [
    "df['A'] > 0"
   ],
   "metadata": {
    "collapsed": false,
    "pycharm": {
     "name": "#%%\n"
    }
   }
  },
  {
   "cell_type": "code",
   "execution_count": 48,
   "outputs": [
    {
     "data": {
      "text/plain": "                   A         B         C         D\n2019-03-01  0.764196  1.225325  0.098304 -1.195356\n2019-03-02  0.416285 -2.177370  1.627735 -0.291489\n2019-03-03  1.383498  1.354793  0.468865 -0.315142\n2019-03-04  0.567844 -0.838652  0.067041  0.471247",
      "text/html": "<div>\n<style scoped>\n    .dataframe tbody tr th:only-of-type {\n        vertical-align: middle;\n    }\n\n    .dataframe tbody tr th {\n        vertical-align: top;\n    }\n\n    .dataframe thead th {\n        text-align: right;\n    }\n</style>\n<table border=\"1\" class=\"dataframe\">\n  <thead>\n    <tr style=\"text-align: right;\">\n      <th></th>\n      <th>A</th>\n      <th>B</th>\n      <th>C</th>\n      <th>D</th>\n    </tr>\n  </thead>\n  <tbody>\n    <tr>\n      <th>2019-03-01</th>\n      <td>0.764196</td>\n      <td>1.225325</td>\n      <td>0.098304</td>\n      <td>-1.195356</td>\n    </tr>\n    <tr>\n      <th>2019-03-02</th>\n      <td>0.416285</td>\n      <td>-2.177370</td>\n      <td>1.627735</td>\n      <td>-0.291489</td>\n    </tr>\n    <tr>\n      <th>2019-03-03</th>\n      <td>1.383498</td>\n      <td>1.354793</td>\n      <td>0.468865</td>\n      <td>-0.315142</td>\n    </tr>\n    <tr>\n      <th>2019-03-04</th>\n      <td>0.567844</td>\n      <td>-0.838652</td>\n      <td>0.067041</td>\n      <td>0.471247</td>\n    </tr>\n  </tbody>\n</table>\n</div>"
     },
     "execution_count": 48,
     "metadata": {},
     "output_type": "execute_result"
    }
   ],
   "source": [
    "df[df['A'] > 0]"
   ],
   "metadata": {
    "collapsed": false,
    "pycharm": {
     "name": "#%%\n"
    }
   }
  },
  {
   "cell_type": "code",
   "execution_count": 49,
   "outputs": [
    {
     "data": {
      "text/plain": "                A      B     C      D\n2019-03-01   True   True  True  False\n2019-03-02   True  False  True  False\n2019-03-03   True   True  True  False\n2019-03-04   True  False  True   True\n2019-03-05  False   True  True   True\n2019-03-06  False   True  True   True",
      "text/html": "<div>\n<style scoped>\n    .dataframe tbody tr th:only-of-type {\n        vertical-align: middle;\n    }\n\n    .dataframe tbody tr th {\n        vertical-align: top;\n    }\n\n    .dataframe thead th {\n        text-align: right;\n    }\n</style>\n<table border=\"1\" class=\"dataframe\">\n  <thead>\n    <tr style=\"text-align: right;\">\n      <th></th>\n      <th>A</th>\n      <th>B</th>\n      <th>C</th>\n      <th>D</th>\n    </tr>\n  </thead>\n  <tbody>\n    <tr>\n      <th>2019-03-01</th>\n      <td>True</td>\n      <td>True</td>\n      <td>True</td>\n      <td>False</td>\n    </tr>\n    <tr>\n      <th>2019-03-02</th>\n      <td>True</td>\n      <td>False</td>\n      <td>True</td>\n      <td>False</td>\n    </tr>\n    <tr>\n      <th>2019-03-03</th>\n      <td>True</td>\n      <td>True</td>\n      <td>True</td>\n      <td>False</td>\n    </tr>\n    <tr>\n      <th>2019-03-04</th>\n      <td>True</td>\n      <td>False</td>\n      <td>True</td>\n      <td>True</td>\n    </tr>\n    <tr>\n      <th>2019-03-05</th>\n      <td>False</td>\n      <td>True</td>\n      <td>True</td>\n      <td>True</td>\n    </tr>\n    <tr>\n      <th>2019-03-06</th>\n      <td>False</td>\n      <td>True</td>\n      <td>True</td>\n      <td>True</td>\n    </tr>\n  </tbody>\n</table>\n</div>"
     },
     "execution_count": 49,
     "metadata": {},
     "output_type": "execute_result"
    }
   ],
   "source": [
    "df > 0"
   ],
   "metadata": {
    "collapsed": false,
    "pycharm": {
     "name": "#%%\n"
    }
   }
  },
  {
   "cell_type": "code",
   "execution_count": 50,
   "outputs": [
    {
     "data": {
      "text/plain": "                   A         B         C         D\n2019-03-01  0.764196  1.225325  0.098304       NaN\n2019-03-02  0.416285       NaN  1.627735       NaN\n2019-03-03  1.383498  1.354793  0.468865       NaN\n2019-03-04  0.567844       NaN  0.067041  0.471247\n2019-03-05       NaN  0.306723  0.397935  0.098773\n2019-03-06       NaN  1.078355  0.262755  0.211772",
      "text/html": "<div>\n<style scoped>\n    .dataframe tbody tr th:only-of-type {\n        vertical-align: middle;\n    }\n\n    .dataframe tbody tr th {\n        vertical-align: top;\n    }\n\n    .dataframe thead th {\n        text-align: right;\n    }\n</style>\n<table border=\"1\" class=\"dataframe\">\n  <thead>\n    <tr style=\"text-align: right;\">\n      <th></th>\n      <th>A</th>\n      <th>B</th>\n      <th>C</th>\n      <th>D</th>\n    </tr>\n  </thead>\n  <tbody>\n    <tr>\n      <th>2019-03-01</th>\n      <td>0.764196</td>\n      <td>1.225325</td>\n      <td>0.098304</td>\n      <td>NaN</td>\n    </tr>\n    <tr>\n      <th>2019-03-02</th>\n      <td>0.416285</td>\n      <td>NaN</td>\n      <td>1.627735</td>\n      <td>NaN</td>\n    </tr>\n    <tr>\n      <th>2019-03-03</th>\n      <td>1.383498</td>\n      <td>1.354793</td>\n      <td>0.468865</td>\n      <td>NaN</td>\n    </tr>\n    <tr>\n      <th>2019-03-04</th>\n      <td>0.567844</td>\n      <td>NaN</td>\n      <td>0.067041</td>\n      <td>0.471247</td>\n    </tr>\n    <tr>\n      <th>2019-03-05</th>\n      <td>NaN</td>\n      <td>0.306723</td>\n      <td>0.397935</td>\n      <td>0.098773</td>\n    </tr>\n    <tr>\n      <th>2019-03-06</th>\n      <td>NaN</td>\n      <td>1.078355</td>\n      <td>0.262755</td>\n      <td>0.211772</td>\n    </tr>\n  </tbody>\n</table>\n</div>"
     },
     "execution_count": 50,
     "metadata": {},
     "output_type": "execute_result"
    }
   ],
   "source": [
    "df[df > 0]"
   ],
   "metadata": {
    "collapsed": false,
    "pycharm": {
     "name": "#%%\n"
    }
   }
  },
  {
   "cell_type": "code",
   "execution_count": 51,
   "outputs": [
    {
     "data": {
      "text/plain": "                   A         C         D         B\n2019-03-01  0.764196  0.098304 -1.195356  1.225325\n2019-03-02  0.416285  1.627735 -0.291489 -2.177370\n2019-03-03  1.383498  0.468865 -0.315142  1.354793\n2019-03-04  0.567844  0.067041  0.471247 -0.838652\n2019-03-05 -0.874267  0.397935  0.098773  0.306723\n2019-03-06 -1.553379  0.262755  0.211772  1.078355",
      "text/html": "<div>\n<style scoped>\n    .dataframe tbody tr th:only-of-type {\n        vertical-align: middle;\n    }\n\n    .dataframe tbody tr th {\n        vertical-align: top;\n    }\n\n    .dataframe thead th {\n        text-align: right;\n    }\n</style>\n<table border=\"1\" class=\"dataframe\">\n  <thead>\n    <tr style=\"text-align: right;\">\n      <th></th>\n      <th>A</th>\n      <th>C</th>\n      <th>D</th>\n      <th>B</th>\n    </tr>\n  </thead>\n  <tbody>\n    <tr>\n      <th>2019-03-01</th>\n      <td>0.764196</td>\n      <td>0.098304</td>\n      <td>-1.195356</td>\n      <td>1.225325</td>\n    </tr>\n    <tr>\n      <th>2019-03-02</th>\n      <td>0.416285</td>\n      <td>1.627735</td>\n      <td>-0.291489</td>\n      <td>-2.177370</td>\n    </tr>\n    <tr>\n      <th>2019-03-03</th>\n      <td>1.383498</td>\n      <td>0.468865</td>\n      <td>-0.315142</td>\n      <td>1.354793</td>\n    </tr>\n    <tr>\n      <th>2019-03-04</th>\n      <td>0.567844</td>\n      <td>0.067041</td>\n      <td>0.471247</td>\n      <td>-0.838652</td>\n    </tr>\n    <tr>\n      <th>2019-03-05</th>\n      <td>-0.874267</td>\n      <td>0.397935</td>\n      <td>0.098773</td>\n      <td>0.306723</td>\n    </tr>\n    <tr>\n      <th>2019-03-06</th>\n      <td>-1.553379</td>\n      <td>0.262755</td>\n      <td>0.211772</td>\n      <td>1.078355</td>\n    </tr>\n  </tbody>\n</table>\n</div>"
     },
     "execution_count": 51,
     "metadata": {},
     "output_type": "execute_result"
    }
   ],
   "source": [
    "df2 = pd.DataFrame(df, columns=['A', 'C', 'D', 'B'])\n",
    "df2"
   ],
   "metadata": {
    "collapsed": false,
    "pycharm": {
     "name": "#%%\n"
    }
   }
  },
  {
   "cell_type": "code",
   "execution_count": 52,
   "outputs": [
    {
     "data": {
      "text/plain": "                   A         B         C         D   E\n2019-03-01  0.764196  1.225325  0.098304 -1.195356 NaN\n2019-03-02  0.416285 -2.177370  1.627735 -0.291489 NaN\n2019-03-03  1.383498  1.354793  0.468865 -0.315142 NaN\n2019-03-04  0.567844 -0.838652  0.067041  0.471247 NaN\n2019-03-05 -0.874267  0.306723  0.397935  0.098773 NaN\n2019-03-06 -1.553379  1.078355  0.262755  0.211772 NaN",
      "text/html": "<div>\n<style scoped>\n    .dataframe tbody tr th:only-of-type {\n        vertical-align: middle;\n    }\n\n    .dataframe tbody tr th {\n        vertical-align: top;\n    }\n\n    .dataframe thead th {\n        text-align: right;\n    }\n</style>\n<table border=\"1\" class=\"dataframe\">\n  <thead>\n    <tr style=\"text-align: right;\">\n      <th></th>\n      <th>A</th>\n      <th>B</th>\n      <th>C</th>\n      <th>D</th>\n      <th>E</th>\n    </tr>\n  </thead>\n  <tbody>\n    <tr>\n      <th>2019-03-01</th>\n      <td>0.764196</td>\n      <td>1.225325</td>\n      <td>0.098304</td>\n      <td>-1.195356</td>\n      <td>NaN</td>\n    </tr>\n    <tr>\n      <th>2019-03-02</th>\n      <td>0.416285</td>\n      <td>-2.177370</td>\n      <td>1.627735</td>\n      <td>-0.291489</td>\n      <td>NaN</td>\n    </tr>\n    <tr>\n      <th>2019-03-03</th>\n      <td>1.383498</td>\n      <td>1.354793</td>\n      <td>0.468865</td>\n      <td>-0.315142</td>\n      <td>NaN</td>\n    </tr>\n    <tr>\n      <th>2019-03-04</th>\n      <td>0.567844</td>\n      <td>-0.838652</td>\n      <td>0.067041</td>\n      <td>0.471247</td>\n      <td>NaN</td>\n    </tr>\n    <tr>\n      <th>2019-03-05</th>\n      <td>-0.874267</td>\n      <td>0.306723</td>\n      <td>0.397935</td>\n      <td>0.098773</td>\n      <td>NaN</td>\n    </tr>\n    <tr>\n      <th>2019-03-06</th>\n      <td>-1.553379</td>\n      <td>1.078355</td>\n      <td>0.262755</td>\n      <td>0.211772</td>\n      <td>NaN</td>\n    </tr>\n  </tbody>\n</table>\n</div>"
     },
     "execution_count": 52,
     "metadata": {},
     "output_type": "execute_result"
    }
   ],
   "source": [
    "df['E'] = np.nan\n",
    "df"
   ],
   "metadata": {
    "collapsed": false,
    "pycharm": {
     "name": "#%%\n"
    }
   }
  },
  {
   "cell_type": "code",
   "execution_count": 53,
   "outputs": [
    {
     "data": {
      "text/plain": "                   A         B         C         D    E\n2019-03-01  0.764196  1.225325  0.098304 -1.195356  NaN\n2019-03-02  0.416285 -2.177370  1.627735 -0.291489  2.0\n2019-03-03  1.383498  1.354793  0.468865 -0.315142  NaN\n2019-03-04  0.567844 -0.838652  0.067041  0.471247  NaN\n2019-03-05 -0.874267  0.306723  0.397935  0.098773  NaN\n2019-03-06 -1.553379  1.078355  0.262755  0.211772  NaN",
      "text/html": "<div>\n<style scoped>\n    .dataframe tbody tr th:only-of-type {\n        vertical-align: middle;\n    }\n\n    .dataframe tbody tr th {\n        vertical-align: top;\n    }\n\n    .dataframe thead th {\n        text-align: right;\n    }\n</style>\n<table border=\"1\" class=\"dataframe\">\n  <thead>\n    <tr style=\"text-align: right;\">\n      <th></th>\n      <th>A</th>\n      <th>B</th>\n      <th>C</th>\n      <th>D</th>\n      <th>E</th>\n    </tr>\n  </thead>\n  <tbody>\n    <tr>\n      <th>2019-03-01</th>\n      <td>0.764196</td>\n      <td>1.225325</td>\n      <td>0.098304</td>\n      <td>-1.195356</td>\n      <td>NaN</td>\n    </tr>\n    <tr>\n      <th>2019-03-02</th>\n      <td>0.416285</td>\n      <td>-2.177370</td>\n      <td>1.627735</td>\n      <td>-0.291489</td>\n      <td>2.0</td>\n    </tr>\n    <tr>\n      <th>2019-03-03</th>\n      <td>1.383498</td>\n      <td>1.354793</td>\n      <td>0.468865</td>\n      <td>-0.315142</td>\n      <td>NaN</td>\n    </tr>\n    <tr>\n      <th>2019-03-04</th>\n      <td>0.567844</td>\n      <td>-0.838652</td>\n      <td>0.067041</td>\n      <td>0.471247</td>\n      <td>NaN</td>\n    </tr>\n    <tr>\n      <th>2019-03-05</th>\n      <td>-0.874267</td>\n      <td>0.306723</td>\n      <td>0.397935</td>\n      <td>0.098773</td>\n      <td>NaN</td>\n    </tr>\n    <tr>\n      <th>2019-03-06</th>\n      <td>-1.553379</td>\n      <td>1.078355</td>\n      <td>0.262755</td>\n      <td>0.211772</td>\n      <td>NaN</td>\n    </tr>\n  </tbody>\n</table>\n</div>"
     },
     "execution_count": 53,
     "metadata": {},
     "output_type": "execute_result"
    }
   ],
   "source": [
    "df.loc['2019-03-02', ['E']] = 2\n",
    "df"
   ],
   "metadata": {
    "collapsed": false,
    "pycharm": {
     "name": "#%%\n"
    }
   }
  },
  {
   "cell_type": "code",
   "execution_count": 54,
   "outputs": [
    {
     "data": {
      "text/plain": "                   A         B         C         D    E         F\n2019-03-01  0.764196  1.225325  0.098304 -1.195356  NaN  1.989521\n2019-03-02  0.416285 -2.177370  1.627735 -0.291489  2.0 -1.761085\n2019-03-03  1.383498  1.354793  0.468865 -0.315142  NaN  2.738291\n2019-03-04  0.567844 -0.838652  0.067041  0.471247  NaN -0.270808\n2019-03-05 -0.874267  0.306723  0.397935  0.098773  NaN -0.567544\n2019-03-06 -1.553379  1.078355  0.262755  0.211772  NaN -0.475024",
      "text/html": "<div>\n<style scoped>\n    .dataframe tbody tr th:only-of-type {\n        vertical-align: middle;\n    }\n\n    .dataframe tbody tr th {\n        vertical-align: top;\n    }\n\n    .dataframe thead th {\n        text-align: right;\n    }\n</style>\n<table border=\"1\" class=\"dataframe\">\n  <thead>\n    <tr style=\"text-align: right;\">\n      <th></th>\n      <th>A</th>\n      <th>B</th>\n      <th>C</th>\n      <th>D</th>\n      <th>E</th>\n      <th>F</th>\n    </tr>\n  </thead>\n  <tbody>\n    <tr>\n      <th>2019-03-01</th>\n      <td>0.764196</td>\n      <td>1.225325</td>\n      <td>0.098304</td>\n      <td>-1.195356</td>\n      <td>NaN</td>\n      <td>1.989521</td>\n    </tr>\n    <tr>\n      <th>2019-03-02</th>\n      <td>0.416285</td>\n      <td>-2.177370</td>\n      <td>1.627735</td>\n      <td>-0.291489</td>\n      <td>2.0</td>\n      <td>-1.761085</td>\n    </tr>\n    <tr>\n      <th>2019-03-03</th>\n      <td>1.383498</td>\n      <td>1.354793</td>\n      <td>0.468865</td>\n      <td>-0.315142</td>\n      <td>NaN</td>\n      <td>2.738291</td>\n    </tr>\n    <tr>\n      <th>2019-03-04</th>\n      <td>0.567844</td>\n      <td>-0.838652</td>\n      <td>0.067041</td>\n      <td>0.471247</td>\n      <td>NaN</td>\n      <td>-0.270808</td>\n    </tr>\n    <tr>\n      <th>2019-03-05</th>\n      <td>-0.874267</td>\n      <td>0.306723</td>\n      <td>0.397935</td>\n      <td>0.098773</td>\n      <td>NaN</td>\n      <td>-0.567544</td>\n    </tr>\n    <tr>\n      <th>2019-03-06</th>\n      <td>-1.553379</td>\n      <td>1.078355</td>\n      <td>0.262755</td>\n      <td>0.211772</td>\n      <td>NaN</td>\n      <td>-0.475024</td>\n    </tr>\n  </tbody>\n</table>\n</div>"
     },
     "execution_count": 54,
     "metadata": {},
     "output_type": "execute_result"
    }
   ],
   "source": [
    "df['F'] = df['A'] + df['B']\n",
    "df"
   ],
   "metadata": {
    "collapsed": false,
    "pycharm": {
     "name": "#%%\n"
    }
   }
  },
  {
   "cell_type": "code",
   "execution_count": 55,
   "outputs": [
    {
     "data": {
      "text/plain": "     기간  구분 스트레스 인지율 스트레스 인지율.1 스트레스 인지율.2 우울감 경험률 우울감 경험률.1 우울감 경험률.2 자살 생각률  \\\n0    기간  구분       전체        남학생        여학생      전체       남학생       여학생     전체   \n1  2019  구분     41.6         34       49.7    29.5      24.5      34.8   14.2   \n\n  자살 생각률.1 자살 생각률.2  \n0      남학생      여학생  \n1     10.8     17.9  ",
      "text/html": "<div>\n<style scoped>\n    .dataframe tbody tr th:only-of-type {\n        vertical-align: middle;\n    }\n\n    .dataframe tbody tr th {\n        vertical-align: top;\n    }\n\n    .dataframe thead th {\n        text-align: right;\n    }\n</style>\n<table border=\"1\" class=\"dataframe\">\n  <thead>\n    <tr style=\"text-align: right;\">\n      <th></th>\n      <th>기간</th>\n      <th>구분</th>\n      <th>스트레스 인지율</th>\n      <th>스트레스 인지율.1</th>\n      <th>스트레스 인지율.2</th>\n      <th>우울감 경험률</th>\n      <th>우울감 경험률.1</th>\n      <th>우울감 경험률.2</th>\n      <th>자살 생각률</th>\n      <th>자살 생각률.1</th>\n      <th>자살 생각률.2</th>\n    </tr>\n  </thead>\n  <tbody>\n    <tr>\n      <th>0</th>\n      <td>기간</td>\n      <td>구분</td>\n      <td>전체</td>\n      <td>남학생</td>\n      <td>여학생</td>\n      <td>전체</td>\n      <td>남학생</td>\n      <td>여학생</td>\n      <td>전체</td>\n      <td>남학생</td>\n      <td>여학생</td>\n    </tr>\n    <tr>\n      <th>1</th>\n      <td>2019</td>\n      <td>구분</td>\n      <td>41.6</td>\n      <td>34</td>\n      <td>49.7</td>\n      <td>29.5</td>\n      <td>24.5</td>\n      <td>34.8</td>\n      <td>14.2</td>\n      <td>10.8</td>\n      <td>17.9</td>\n    </tr>\n  </tbody>\n</table>\n</div>"
     },
     "execution_count": 55,
     "metadata": {},
     "output_type": "execute_result"
    }
   ],
   "source": [
    "pd.read_csv('data/teenage_mental.txt', sep='\\t')"
   ],
   "metadata": {
    "collapsed": false,
    "pycharm": {
     "name": "#%%\n"
    }
   }
  },
  {
   "cell_type": "code",
   "execution_count": 56,
   "outputs": [
    {
     "data": {
      "text/plain": "     기간  구분    전체  남학생   여학생  전체.1  남학생.1  여학생.1  전체.2  남학생.2  여학생.2\n0  2019  구분  41.6   34  49.7  29.5   24.5   34.8  14.2   10.8   17.9",
      "text/html": "<div>\n<style scoped>\n    .dataframe tbody tr th:only-of-type {\n        vertical-align: middle;\n    }\n\n    .dataframe tbody tr th {\n        vertical-align: top;\n    }\n\n    .dataframe thead th {\n        text-align: right;\n    }\n</style>\n<table border=\"1\" class=\"dataframe\">\n  <thead>\n    <tr style=\"text-align: right;\">\n      <th></th>\n      <th>기간</th>\n      <th>구분</th>\n      <th>전체</th>\n      <th>남학생</th>\n      <th>여학생</th>\n      <th>전체.1</th>\n      <th>남학생.1</th>\n      <th>여학생.1</th>\n      <th>전체.2</th>\n      <th>남학생.2</th>\n      <th>여학생.2</th>\n    </tr>\n  </thead>\n  <tbody>\n    <tr>\n      <th>0</th>\n      <td>2019</td>\n      <td>구분</td>\n      <td>41.6</td>\n      <td>34</td>\n      <td>49.7</td>\n      <td>29.5</td>\n      <td>24.5</td>\n      <td>34.8</td>\n      <td>14.2</td>\n      <td>10.8</td>\n      <td>17.9</td>\n    </tr>\n  </tbody>\n</table>\n</div>"
     },
     "execution_count": 56,
     "metadata": {},
     "output_type": "execute_result"
    }
   ],
   "source": [
    "pd.read_csv('data/teenage_mental.txt', sep='\\t', header=1)"
   ],
   "metadata": {
    "collapsed": false,
    "pycharm": {
     "name": "#%%\n"
    }
   }
  },
  {
   "cell_type": "code",
   "execution_count": 57,
   "outputs": [
    {
     "data": {
      "text/plain": "     전체  남학생   여학생  전체.1  남학생.1  여학생.1  전체.2  남학생.2  여학생.2\n0  41.6   34  49.7  29.5   24.5   34.8  14.2   10.8   17.9",
      "text/html": "<div>\n<style scoped>\n    .dataframe tbody tr th:only-of-type {\n        vertical-align: middle;\n    }\n\n    .dataframe tbody tr th {\n        vertical-align: top;\n    }\n\n    .dataframe thead th {\n        text-align: right;\n    }\n</style>\n<table border=\"1\" class=\"dataframe\">\n  <thead>\n    <tr style=\"text-align: right;\">\n      <th></th>\n      <th>전체</th>\n      <th>남학생</th>\n      <th>여학생</th>\n      <th>전체.1</th>\n      <th>남학생.1</th>\n      <th>여학생.1</th>\n      <th>전체.2</th>\n      <th>남학생.2</th>\n      <th>여학생.2</th>\n    </tr>\n  </thead>\n  <tbody>\n    <tr>\n      <th>0</th>\n      <td>41.6</td>\n      <td>34</td>\n      <td>49.7</td>\n      <td>29.5</td>\n      <td>24.5</td>\n      <td>34.8</td>\n      <td>14.2</td>\n      <td>10.8</td>\n      <td>17.9</td>\n    </tr>\n  </tbody>\n</table>\n</div>"
     },
     "execution_count": 57,
     "metadata": {},
     "output_type": "execute_result"
    }
   ],
   "source": [
    "pd.read_csv('data/teenage_mental.txt', sep='\\t', header=1, usecols=[2, 3, 4, 5, 6, 7, 8, 9, 10])"
   ],
   "metadata": {
    "collapsed": false,
    "pycharm": {
     "name": "#%%\n"
    }
   }
  },
  {
   "cell_type": "code",
   "execution_count": 58,
   "outputs": [
    {
     "data": {
      "text/plain": "   스트레스  스트레스남학생  스트레스여학생  우울감경험률  우울남학생  우울여학생  자살생각율  자살남학생  자살여학생\n0  41.6       34     49.7    29.5   24.5   34.8   14.2   10.8   17.9",
      "text/html": "<div>\n<style scoped>\n    .dataframe tbody tr th:only-of-type {\n        vertical-align: middle;\n    }\n\n    .dataframe tbody tr th {\n        vertical-align: top;\n    }\n\n    .dataframe thead th {\n        text-align: right;\n    }\n</style>\n<table border=\"1\" class=\"dataframe\">\n  <thead>\n    <tr style=\"text-align: right;\">\n      <th></th>\n      <th>스트레스</th>\n      <th>스트레스남학생</th>\n      <th>스트레스여학생</th>\n      <th>우울감경험률</th>\n      <th>우울남학생</th>\n      <th>우울여학생</th>\n      <th>자살생각율</th>\n      <th>자살남학생</th>\n      <th>자살여학생</th>\n    </tr>\n  </thead>\n  <tbody>\n    <tr>\n      <th>0</th>\n      <td>41.6</td>\n      <td>34</td>\n      <td>49.7</td>\n      <td>29.5</td>\n      <td>24.5</td>\n      <td>34.8</td>\n      <td>14.2</td>\n      <td>10.8</td>\n      <td>17.9</td>\n    </tr>\n  </tbody>\n</table>\n</div>"
     },
     "execution_count": 58,
     "metadata": {},
     "output_type": "execute_result"
    }
   ],
   "source": [
    "col_names = ['스트레스', '스트레스남학생', '스트레스여학생', '우울감경험률', '우울남학생', '우울여학생', '자살생각율', '자살남학생', '자살여학생']\n",
    "pd.read_csv('data/teenage_mental.txt', sep='\\t', header=1, usecols=[2, 3, 4, 5, 6, 7, 8, 9, 10], names=col_names)"
   ],
   "metadata": {
    "collapsed": false,
    "pycharm": {
     "name": "#%%\n"
    }
   }
  },
  {
   "cell_type": "code",
   "execution_count": 59,
   "outputs": [
    {
     "data": {
      "text/plain": "   스트레스  스트레스남학생  스트레스여학생  우울감경험률  우울남학생  우울여학생  자살생각율  자살남학생  자살여학생\n0  41.6       34     49.7    29.5   24.5   34.8   14.2   10.8   17.9",
      "text/html": "<div>\n<style scoped>\n    .dataframe tbody tr th:only-of-type {\n        vertical-align: middle;\n    }\n\n    .dataframe tbody tr th {\n        vertical-align: top;\n    }\n\n    .dataframe thead th {\n        text-align: right;\n    }\n</style>\n<table border=\"1\" class=\"dataframe\">\n  <thead>\n    <tr style=\"text-align: right;\">\n      <th></th>\n      <th>스트레스</th>\n      <th>스트레스남학생</th>\n      <th>스트레스여학생</th>\n      <th>우울감경험률</th>\n      <th>우울남학생</th>\n      <th>우울여학생</th>\n      <th>자살생각율</th>\n      <th>자살남학생</th>\n      <th>자살여학생</th>\n    </tr>\n  </thead>\n  <tbody>\n    <tr>\n      <th>0</th>\n      <td>41.6</td>\n      <td>34</td>\n      <td>49.7</td>\n      <td>29.5</td>\n      <td>24.5</td>\n      <td>34.8</td>\n      <td>14.2</td>\n      <td>10.8</td>\n      <td>17.9</td>\n    </tr>\n  </tbody>\n</table>\n</div>"
     },
     "execution_count": 59,
     "metadata": {},
     "output_type": "execute_result"
    }
   ],
   "source": [
    "raw_data = pd.read_csv('data/teenage_mental.txt', sep='\\t', header=1, usecols=[2, 3, 4, 5, 6, 7, 8, 9, 10], names=col_names)\n",
    "raw_data"
   ],
   "metadata": {
    "collapsed": false,
    "pycharm": {
     "name": "#%%\n"
    }
   }
  },
  {
   "cell_type": "code",
   "execution_count": 60,
   "outputs": [
    {
     "data": {
      "text/plain": "   스트레스  스트레스남학생  스트레스여학생  우울감경험률  우울남학생  우울여학생  자살생각율  자살남학생  자살여학생\n0  41.6     34.0     49.7    29.5   24.5   34.8   14.2   10.8   17.9\n1  58.4     66.0     50.3    70.5   75.5   65.2   85.8   89.2   82.1",
      "text/html": "<div>\n<style scoped>\n    .dataframe tbody tr th:only-of-type {\n        vertical-align: middle;\n    }\n\n    .dataframe tbody tr th {\n        vertical-align: top;\n    }\n\n    .dataframe thead th {\n        text-align: right;\n    }\n</style>\n<table border=\"1\" class=\"dataframe\">\n  <thead>\n    <tr style=\"text-align: right;\">\n      <th></th>\n      <th>스트레스</th>\n      <th>스트레스남학생</th>\n      <th>스트레스여학생</th>\n      <th>우울감경험률</th>\n      <th>우울남학생</th>\n      <th>우울여학생</th>\n      <th>자살생각율</th>\n      <th>자살남학생</th>\n      <th>자살여학생</th>\n    </tr>\n  </thead>\n  <tbody>\n    <tr>\n      <th>0</th>\n      <td>41.6</td>\n      <td>34.0</td>\n      <td>49.7</td>\n      <td>29.5</td>\n      <td>24.5</td>\n      <td>34.8</td>\n      <td>14.2</td>\n      <td>10.8</td>\n      <td>17.9</td>\n    </tr>\n    <tr>\n      <th>1</th>\n      <td>58.4</td>\n      <td>66.0</td>\n      <td>50.3</td>\n      <td>70.5</td>\n      <td>75.5</td>\n      <td>65.2</td>\n      <td>85.8</td>\n      <td>89.2</td>\n      <td>82.1</td>\n    </tr>\n  </tbody>\n</table>\n</div>"
     },
     "execution_count": 60,
     "metadata": {},
     "output_type": "execute_result"
    }
   ],
   "source": [
    "raw_data.loc[1] = 100. - raw_data.loc[0]\n",
    "raw_data"
   ],
   "metadata": {
    "collapsed": false,
    "pycharm": {
     "name": "#%%\n"
    }
   }
  },
  {
   "cell_type": "code",
   "execution_count": 61,
   "outputs": [
    {
     "data": {
      "text/plain": "   스트레스  스트레스남학생  스트레스여학생  우울감경험률  우울남학생  우울여학생  자살생각율  자살남학생  자살여학생   응답\n0  41.6     34.0     49.7    29.5   24.5   34.8   14.2   10.8   17.9  그렇다\n1  58.4     66.0     50.3    70.5   75.5   65.2   85.8   89.2   82.1  아니다",
      "text/html": "<div>\n<style scoped>\n    .dataframe tbody tr th:only-of-type {\n        vertical-align: middle;\n    }\n\n    .dataframe tbody tr th {\n        vertical-align: top;\n    }\n\n    .dataframe thead th {\n        text-align: right;\n    }\n</style>\n<table border=\"1\" class=\"dataframe\">\n  <thead>\n    <tr style=\"text-align: right;\">\n      <th></th>\n      <th>스트레스</th>\n      <th>스트레스남학생</th>\n      <th>스트레스여학생</th>\n      <th>우울감경험률</th>\n      <th>우울남학생</th>\n      <th>우울여학생</th>\n      <th>자살생각율</th>\n      <th>자살남학생</th>\n      <th>자살여학생</th>\n      <th>응답</th>\n    </tr>\n  </thead>\n  <tbody>\n    <tr>\n      <th>0</th>\n      <td>41.6</td>\n      <td>34.0</td>\n      <td>49.7</td>\n      <td>29.5</td>\n      <td>24.5</td>\n      <td>34.8</td>\n      <td>14.2</td>\n      <td>10.8</td>\n      <td>17.9</td>\n      <td>그렇다</td>\n    </tr>\n    <tr>\n      <th>1</th>\n      <td>58.4</td>\n      <td>66.0</td>\n      <td>50.3</td>\n      <td>70.5</td>\n      <td>75.5</td>\n      <td>65.2</td>\n      <td>85.8</td>\n      <td>89.2</td>\n      <td>82.1</td>\n      <td>아니다</td>\n    </tr>\n  </tbody>\n</table>\n</div>"
     },
     "execution_count": 61,
     "metadata": {},
     "output_type": "execute_result"
    }
   ],
   "source": [
    "raw_data['응답'] = ['그렇다', '아니다']\n",
    "raw_data"
   ],
   "metadata": {
    "collapsed": false,
    "pycharm": {
     "name": "#%%\n"
    }
   }
  },
  {
   "cell_type": "code",
   "execution_count": 62,
   "outputs": [
    {
     "data": {
      "text/plain": "     스트레스  스트레스남학생  스트레스여학생  우울감경험률  우울남학생  우울여학생  자살생각율  자살남학생  자살여학생\n응답                                                                    \n그렇다  41.6     34.0     49.7    29.5   24.5   34.8   14.2   10.8   17.9\n아니다  58.4     66.0     50.3    70.5   75.5   65.2   85.8   89.2   82.1",
      "text/html": "<div>\n<style scoped>\n    .dataframe tbody tr th:only-of-type {\n        vertical-align: middle;\n    }\n\n    .dataframe tbody tr th {\n        vertical-align: top;\n    }\n\n    .dataframe thead th {\n        text-align: right;\n    }\n</style>\n<table border=\"1\" class=\"dataframe\">\n  <thead>\n    <tr style=\"text-align: right;\">\n      <th></th>\n      <th>스트레스</th>\n      <th>스트레스남학생</th>\n      <th>스트레스여학생</th>\n      <th>우울감경험률</th>\n      <th>우울남학생</th>\n      <th>우울여학생</th>\n      <th>자살생각율</th>\n      <th>자살남학생</th>\n      <th>자살여학생</th>\n    </tr>\n    <tr>\n      <th>응답</th>\n      <th></th>\n      <th></th>\n      <th></th>\n      <th></th>\n      <th></th>\n      <th></th>\n      <th></th>\n      <th></th>\n      <th></th>\n    </tr>\n  </thead>\n  <tbody>\n    <tr>\n      <th>그렇다</th>\n      <td>41.6</td>\n      <td>34.0</td>\n      <td>49.7</td>\n      <td>29.5</td>\n      <td>24.5</td>\n      <td>34.8</td>\n      <td>14.2</td>\n      <td>10.8</td>\n      <td>17.9</td>\n    </tr>\n    <tr>\n      <th>아니다</th>\n      <td>58.4</td>\n      <td>66.0</td>\n      <td>50.3</td>\n      <td>70.5</td>\n      <td>75.5</td>\n      <td>65.2</td>\n      <td>85.8</td>\n      <td>89.2</td>\n      <td>82.1</td>\n    </tr>\n  </tbody>\n</table>\n</div>"
     },
     "execution_count": 62,
     "metadata": {},
     "output_type": "execute_result"
    }
   ],
   "source": [
    "raw_data.set_index('응답', drop=True, inplace=True)\n",
    "raw_data"
   ],
   "metadata": {
    "collapsed": false,
    "pycharm": {
     "name": "#%%\n"
    }
   }
  },
  {
   "cell_type": "code",
   "execution_count": 63,
   "outputs": [],
   "source": [
    "import matplotlib.pyplot as plt\n",
    "%matplotlib inline"
   ],
   "metadata": {
    "collapsed": false,
    "pycharm": {
     "name": "#%%\n"
    }
   }
  },
  {
   "cell_type": "code",
   "execution_count": 64,
   "outputs": [
    {
     "data": {
      "text/plain": "<function matplotlib.pyplot.show(close=None, block=None)>"
     },
     "execution_count": 64,
     "metadata": {},
     "output_type": "execute_result"
    },
    {
     "data": {
      "text/plain": "<Figure size 432x288 with 1 Axes>",
      "image/png": "[encoded data removed]"
     },
     "metadata": {
      "needs_background": "light"
     },
     "output_type": "display_data"
    }
   ],
   "source": [
    "x = [0, 1, 2, 3, 4, 5, 6, 7, 8, 9, 10]\n",
    "y = [0, 1, 2, 3, 4, 5, 4, 3, 2, 1, 0]\n",
    "\n",
    "plt.plot(x, y)\n",
    "plt.show"
   ],
   "metadata": {
    "collapsed": false,
    "pycharm": {
     "name": "#%%\n"
    }
   }
  },
  {
   "cell_type": "code",
   "execution_count": 65,
   "outputs": [
    {
     "data": {
      "text/plain": "<Figure size 720x432 with 1 Axes>",
      "image/png": "[encoded data removed]"
     },
     "metadata": {
      "needs_background": "light"
     },
     "output_type": "display_data"
    }
   ],
   "source": [
    "plt.figure(figsize=(10, 6))\n",
    "plt.plot(x, y)\n",
    "plt.grid()\n",
    "plt.show()"
   ],
   "metadata": {
    "collapsed": false,
    "pycharm": {
     "name": "#%%\n"
    }
   }
  },
  {
   "cell_type": "code",
   "execution_count": 66,
   "outputs": [
    {
     "data": {
      "text/plain": "<Figure size 720x432 with 1 Axes>",
      "image/png": "[encoded data removed]"
     },
     "metadata": {
      "needs_background": "light"
     },
     "output_type": "display_data"
    }
   ],
   "source": [
    "import numpy as np\n",
    "\n",
    "t = np.arange(0, 2*np.pi, 0.01)\n",
    "\n",
    "plt.figure(figsize=(10, 6))\n",
    "plt.plot(t, np.sin(t), label='sin')\n",
    "plt.plot(t, np.cos(t), label='cos')\n",
    "plt.grid()\n",
    "plt.legend()\n",
    "plt.title('sin', color='white')\n",
    "plt.xlabel('sec', color='white')\n",
    "plt.ylabel('amplitude', color='white')\n",
    "plt.show()"
   ],
   "metadata": {
    "collapsed": false,
    "pycharm": {
     "name": "#%%\n"
    }
   }
  },
  {
   "cell_type": "code",
   "execution_count": 67,
   "outputs": [
    {
     "data": {
      "text/plain": "<Figure size 720x432 with 1 Axes>",
      "image/png": "[encoded data removed]"
     },
     "metadata": {
      "needs_background": "light"
     },
     "output_type": "display_data"
    }
   ],
   "source": [
    "plt.figure(figsize=(10, 6))\n",
    "plt.plot(t, np.sin(t), lw=3, label='sin')\n",
    "plt.plot(t, np.cos(t), 'r', label='cos')\n",
    "plt.grid()\n",
    "plt.legend()\n",
    "plt.title('sin', color='white')\n",
    "plt.xlabel('sec', color='white')\n",
    "plt.ylabel('amplitude', color='white')\n",
    "plt.show()"
   ],
   "metadata": {
    "collapsed": false,
    "pycharm": {
     "name": "#%%\n"
    }
   }
  },
  {
   "cell_type": "code",
   "execution_count": 68,
   "outputs": [],
   "source": [
    "from matplotlib import font_manager, rc\n",
    "plt.rcParams['axes.unicode_minus'] = False\n",
    "\n",
    "f_path = \"/System/Library/Fonts/Supplemental/AppleGothic.ttf\"\n",
    "font_name = font_manager.FontProperties(fname=f_path).get_name()\n",
    "rc('font', family=font_name)"
   ],
   "metadata": {
    "collapsed": false,
    "pycharm": {
     "name": "#%%\n"
    }
   }
  },
  {
   "cell_type": "code",
   "execution_count": 69,
   "outputs": [
    {
     "data": {
      "text/plain": "     스트레스  스트레스남학생  스트레스여학생  우울감경험률  우울남학생  우울여학생  자살생각율  자살남학생  자살여학생\n응답                                                                    \n그렇다  41.6     34.0     49.7    29.5   24.5   34.8   14.2   10.8   17.9\n아니다  58.4     66.0     50.3    70.5   75.5   65.2   85.8   89.2   82.1",
      "text/html": "<div>\n<style scoped>\n    .dataframe tbody tr th:only-of-type {\n        vertical-align: middle;\n    }\n\n    .dataframe tbody tr th {\n        vertical-align: top;\n    }\n\n    .dataframe thead th {\n        text-align: right;\n    }\n</style>\n<table border=\"1\" class=\"dataframe\">\n  <thead>\n    <tr style=\"text-align: right;\">\n      <th></th>\n      <th>스트레스</th>\n      <th>스트레스남학생</th>\n      <th>스트레스여학생</th>\n      <th>우울감경험률</th>\n      <th>우울남학생</th>\n      <th>우울여학생</th>\n      <th>자살생각율</th>\n      <th>자살남학생</th>\n      <th>자살여학생</th>\n    </tr>\n    <tr>\n      <th>응답</th>\n      <th></th>\n      <th></th>\n      <th></th>\n      <th></th>\n      <th></th>\n      <th></th>\n      <th></th>\n      <th></th>\n      <th></th>\n    </tr>\n  </thead>\n  <tbody>\n    <tr>\n      <th>그렇다</th>\n      <td>41.6</td>\n      <td>34.0</td>\n      <td>49.7</td>\n      <td>29.5</td>\n      <td>24.5</td>\n      <td>34.8</td>\n      <td>14.2</td>\n      <td>10.8</td>\n      <td>17.9</td>\n    </tr>\n    <tr>\n      <th>아니다</th>\n      <td>58.4</td>\n      <td>66.0</td>\n      <td>50.3</td>\n      <td>70.5</td>\n      <td>75.5</td>\n      <td>65.2</td>\n      <td>85.8</td>\n      <td>89.2</td>\n      <td>82.1</td>\n    </tr>\n  </tbody>\n</table>\n</div>"
     },
     "execution_count": 69,
     "metadata": {},
     "output_type": "execute_result"
    }
   ],
   "source": [
    "raw_data"
   ],
   "metadata": {
    "collapsed": false,
    "pycharm": {
     "name": "#%%\n"
    }
   }
  },
  {
   "cell_type": "code",
   "execution_count": 70,
   "outputs": [
    {
     "data": {
      "text/plain": "<AxesSubplot:ylabel='스트레스'>"
     },
     "execution_count": 70,
     "metadata": {},
     "output_type": "execute_result"
    },
    {
     "data": {
      "text/plain": "<Figure size 432x288 with 1 Axes>",
      "image/png": "[encoded data removed]"
     },
     "metadata": {},
     "output_type": "display_data"
    }
   ],
   "source": [
    "raw_data['스트레스'].plot.pie()"
   ],
   "metadata": {
    "collapsed": false,
    "pycharm": {
     "name": "#%%\n"
    }
   }
  },
  {
   "cell_type": "code",
   "execution_count": 74,
   "outputs": [
    {
     "data": {
      "text/plain": "<Figure size 432x288 with 1 Axes>",
      "image/png": "[encoded data removed]"
     },
     "metadata": {},
     "output_type": "display_data"
    }
   ],
   "source": [
    "raw_data['스트레스'].plot.pie(explode=[0, 0.02]);"
   ],
   "metadata": {
    "collapsed": false,
    "pycharm": {
     "name": "#%%\n"
    }
   }
  },
  {
   "cell_type": "code",
   "execution_count": 76,
   "outputs": [
    {
     "data": {
      "text/plain": "<Figure size 1152x576 with 3 Axes>",
      "image/png": "[encoded data removed]"
     },
     "metadata": {},
     "output_type": "display_data"
    }
   ],
   "source": [
    "f, ax = plt.subplots(1, 3, figsize=(16, 8))\n",
    "raw_data['스트레스'].plot.pie(explode=[0, 0.02], ax=ax[0], autopct='%1.1f%%')\n",
    "ax[0].set_title('스트레스를 받은적 있다')\n",
    "ax[0].set_ylabel('')\n",
    "\n",
    "raw_data['우울감경험률'].plot.pie(explode=[0, 0.02], ax=ax[1], autopct='%1.1f%%')\n",
    "ax[0].set_title('우울증을 경험한적 있다')\n",
    "ax[0].set_ylabel('')\n",
    "\n",
    "raw_data['자살생각율'].plot.pie(explode=[0, 0.02], ax=ax[2], autopct='%1.1f%%')\n",
    "ax[0].set_title('자살을 고민한적 있다')\n",
    "ax[0].set_ylabel('')\n",
    "\n",
    "plt.show()"
   ],
   "metadata": {
    "collapsed": false,
    "pycharm": {
     "name": "#%%\n"
    }
   }
  },
  {
   "cell_type": "code",
   "execution_count": null,
   "outputs": [],
   "source": [],
   "metadata": {
    "collapsed": false,
    "pycharm": {
     "name": "#%%\n"
    }
   }
  }
 ],
 "metadata": {
  "kernelspec": {
   "display_name": "Python 3",
   "language": "python",
   "name": "python3"
  },
  "language_info": {
   "codemirror_mode": {
    "name": "ipython",
    "version": 2
   },
   "file_extension": ".py",
   "mimetype": "text/x-python",
   "name": "python",
   "nbconvert_exporter": "python",
   "pygments_lexer": "ipython2",
   "version": "2.7.6"
  }
 },
 "nbformat": 4,
 "nbformat_minor": 0
}