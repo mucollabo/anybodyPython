{
 "cells": [
  {
   "cell_type": "code",
   "execution_count": 1,
   "metadata": {
    "collapsed": true
   },
   "outputs": [],
   "source": [
    "import pandas as pd"
   ]
  },
  {
   "cell_type": "code",
   "execution_count": 2,
   "outputs": [
    {
     "data": {
      "text/plain": "DatetimeIndex(['2019-03-01', '2019-03-02', '2019-03-03', '2019-03-04',\n               '2019-03-05', '2019-03-06'],\n              dtype='datetime64[ns]', freq='D')"
     },
     "execution_count": 2,
     "metadata": {},
     "output_type": "execute_result"
    }
   ],
   "source": [
    "dates = pd.date_range('20190301', periods=6)\n",
    "dates"
   ],
   "metadata": {
    "collapsed": false,
    "pycharm": {
     "name": "#%%\n"
    }
   }
  },
  {
   "cell_type": "code",
   "execution_count": 3,
   "outputs": [
    {
     "data": {
      "text/plain": "                   A         B         C         D\n2019-03-01 -1.065280 -1.453852  0.167021 -0.363929\n2019-03-02  0.515064 -0.593003 -0.315707 -0.000331\n2019-03-03 -1.225853 -2.253466  0.122340  1.115167\n2019-03-04  0.575608 -1.026387 -0.976312  0.064135\n2019-03-05  0.839982 -1.072170 -0.721574  0.380398\n2019-03-06 -0.555499 -0.119381  1.165367 -1.258338",
      "text/html": "<div>\n<style scoped>\n    .dataframe tbody tr th:only-of-type {\n        vertical-align: middle;\n    }\n\n    .dataframe tbody tr th {\n        vertical-align: top;\n    }\n\n    .dataframe thead th {\n        text-align: right;\n    }\n</style>\n<table border=\"1\" class=\"dataframe\">\n  <thead>\n    <tr style=\"text-align: right;\">\n      <th></th>\n      <th>A</th>\n      <th>B</th>\n      <th>C</th>\n      <th>D</th>\n    </tr>\n  </thead>\n  <tbody>\n    <tr>\n      <th>2019-03-01</th>\n      <td>-1.065280</td>\n      <td>-1.453852</td>\n      <td>0.167021</td>\n      <td>-0.363929</td>\n    </tr>\n    <tr>\n      <th>2019-03-02</th>\n      <td>0.515064</td>\n      <td>-0.593003</td>\n      <td>-0.315707</td>\n      <td>-0.000331</td>\n    </tr>\n    <tr>\n      <th>2019-03-03</th>\n      <td>-1.225853</td>\n      <td>-2.253466</td>\n      <td>0.122340</td>\n      <td>1.115167</td>\n    </tr>\n    <tr>\n      <th>2019-03-04</th>\n      <td>0.575608</td>\n      <td>-1.026387</td>\n      <td>-0.976312</td>\n      <td>0.064135</td>\n    </tr>\n    <tr>\n      <th>2019-03-05</th>\n      <td>0.839982</td>\n      <td>-1.072170</td>\n      <td>-0.721574</td>\n      <td>0.380398</td>\n    </tr>\n    <tr>\n      <th>2019-03-06</th>\n      <td>-0.555499</td>\n      <td>-0.119381</td>\n      <td>1.165367</td>\n      <td>-1.258338</td>\n    </tr>\n  </tbody>\n</table>\n</div>"
     },
     "execution_count": 3,
     "metadata": {},
     "output_type": "execute_result"
    }
   ],
   "source": [
    "import numpy as np\n",
    "df = pd.DataFrame(np.random.randn(6, 4), index=dates, columns=['A', 'B', 'C', 'D'])\n",
    "df"
   ],
   "metadata": {
    "collapsed": false,
    "pycharm": {
     "name": "#%%\n"
    }
   }
  },
  {
   "cell_type": "code",
   "execution_count": 4,
   "outputs": [
    {
     "data": {
      "text/plain": "pandas.core.frame.DataFrame"
     },
     "execution_count": 4,
     "metadata": {},
     "output_type": "execute_result"
    }
   ],
   "source": [
    "type(df)"
   ],
   "metadata": {
    "collapsed": false,
    "pycharm": {
     "name": "#%%\n"
    }
   }
  },
  {
   "cell_type": "code",
   "execution_count": 5,
   "outputs": [
    {
     "data": {
      "text/plain": "Index(['A', 'B', 'C', 'D'], dtype='object')"
     },
     "execution_count": 5,
     "metadata": {},
     "output_type": "execute_result"
    }
   ],
   "source": [
    "df.columns"
   ],
   "metadata": {
    "collapsed": false,
    "pycharm": {
     "name": "#%%\n"
    }
   }
  },
  {
   "cell_type": "code",
   "execution_count": 6,
   "outputs": [
    {
     "data": {
      "text/plain": "DatetimeIndex(['2019-03-01', '2019-03-02', '2019-03-03', '2019-03-04',\n               '2019-03-05', '2019-03-06'],\n              dtype='datetime64[ns]', freq='D')"
     },
     "execution_count": 6,
     "metadata": {},
     "output_type": "execute_result"
    }
   ],
   "source": [
    "df.index"
   ],
   "metadata": {
    "collapsed": false,
    "pycharm": {
     "name": "#%%\n"
    }
   }
  },
  {
   "cell_type": "code",
   "execution_count": 7,
   "outputs": [
    {
     "data": {
      "text/plain": "array([[-1.06528013e+00, -1.45385173e+00,  1.67021461e-01,\n        -3.63928525e-01],\n       [ 5.15063550e-01, -5.93003200e-01, -3.15706737e-01,\n        -3.31070262e-04],\n       [-1.22585287e+00, -2.25346629e+00,  1.22339753e-01,\n         1.11516711e+00],\n       [ 5.75607867e-01, -1.02638662e+00, -9.76311552e-01,\n         6.41349861e-02],\n       [ 8.39982149e-01, -1.07217041e+00, -7.21573694e-01,\n         3.80398025e-01],\n       [-5.55498718e-01, -1.19381385e-01,  1.16536700e+00,\n        -1.25833784e+00]])"
     },
     "execution_count": 7,
     "metadata": {},
     "output_type": "execute_result"
    }
   ],
   "source": [
    "df.values"
   ],
   "metadata": {
    "collapsed": false,
    "pycharm": {
     "name": "#%%\n"
    }
   }
  },
  {
   "cell_type": "code",
   "execution_count": 8,
   "outputs": [
    {
     "data": {
      "text/plain": "              A         B         C         D\ncount  6.000000  6.000000  6.000000  6.000000\nmean  -0.152663 -1.086377 -0.093144 -0.010483\nstd    0.906473  0.732043  0.764515  0.788367\nmin   -1.225853 -2.253466 -0.976312 -1.258338\n25%   -0.937835 -1.358431 -0.620107 -0.273029\n50%   -0.020218 -1.049279 -0.096683  0.031902\n75%    0.560472 -0.701349  0.155851  0.301332\nmax    0.839982 -0.119381  1.165367  1.115167",
      "text/html": "<div>\n<style scoped>\n    .dataframe tbody tr th:only-of-type {\n        vertical-align: middle;\n    }\n\n    .dataframe tbody tr th {\n        vertical-align: top;\n    }\n\n    .dataframe thead th {\n        text-align: right;\n    }\n</style>\n<table border=\"1\" class=\"dataframe\">\n  <thead>\n    <tr style=\"text-align: right;\">\n      <th></th>\n      <th>A</th>\n      <th>B</th>\n      <th>C</th>\n      <th>D</th>\n    </tr>\n  </thead>\n  <tbody>\n    <tr>\n      <th>count</th>\n      <td>6.000000</td>\n      <td>6.000000</td>\n      <td>6.000000</td>\n      <td>6.000000</td>\n    </tr>\n    <tr>\n      <th>mean</th>\n      <td>-0.152663</td>\n      <td>-1.086377</td>\n      <td>-0.093144</td>\n      <td>-0.010483</td>\n    </tr>\n    <tr>\n      <th>std</th>\n      <td>0.906473</td>\n      <td>0.732043</td>\n      <td>0.764515</td>\n      <td>0.788367</td>\n    </tr>\n    <tr>\n      <th>min</th>\n      <td>-1.225853</td>\n      <td>-2.253466</td>\n      <td>-0.976312</td>\n      <td>-1.258338</td>\n    </tr>\n    <tr>\n      <th>25%</th>\n      <td>-0.937835</td>\n      <td>-1.358431</td>\n      <td>-0.620107</td>\n      <td>-0.273029</td>\n    </tr>\n    <tr>\n      <th>50%</th>\n      <td>-0.020218</td>\n      <td>-1.049279</td>\n      <td>-0.096683</td>\n      <td>0.031902</td>\n    </tr>\n    <tr>\n      <th>75%</th>\n      <td>0.560472</td>\n      <td>-0.701349</td>\n      <td>0.155851</td>\n      <td>0.301332</td>\n    </tr>\n    <tr>\n      <th>max</th>\n      <td>0.839982</td>\n      <td>-0.119381</td>\n      <td>1.165367</td>\n      <td>1.115167</td>\n    </tr>\n  </tbody>\n</table>\n</div>"
     },
     "execution_count": 8,
     "metadata": {},
     "output_type": "execute_result"
    }
   ],
   "source": [
    "df.describe()"
   ],
   "metadata": {
    "collapsed": false,
    "pycharm": {
     "name": "#%%\n"
    }
   }
  },
  {
   "cell_type": "code",
   "execution_count": 9,
   "outputs": [
    {
     "data": {
      "text/plain": "                   A         B         C         D\n2019-03-03 -1.225853 -2.253466  0.122340  1.115167\n2019-03-01 -1.065280 -1.453852  0.167021 -0.363929\n2019-03-06 -0.555499 -0.119381  1.165367 -1.258338\n2019-03-02  0.515064 -0.593003 -0.315707 -0.000331\n2019-03-04  0.575608 -1.026387 -0.976312  0.064135\n2019-03-05  0.839982 -1.072170 -0.721574  0.380398",
      "text/html": "<div>\n<style scoped>\n    .dataframe tbody tr th:only-of-type {\n        vertical-align: middle;\n    }\n\n    .dataframe tbody tr th {\n        vertical-align: top;\n    }\n\n    .dataframe thead th {\n        text-align: right;\n    }\n</style>\n<table border=\"1\" class=\"dataframe\">\n  <thead>\n    <tr style=\"text-align: right;\">\n      <th></th>\n      <th>A</th>\n      <th>B</th>\n      <th>C</th>\n      <th>D</th>\n    </tr>\n  </thead>\n  <tbody>\n    <tr>\n      <th>2019-03-03</th>\n      <td>-1.225853</td>\n      <td>-2.253466</td>\n      <td>0.122340</td>\n      <td>1.115167</td>\n    </tr>\n    <tr>\n      <th>2019-03-01</th>\n      <td>-1.065280</td>\n      <td>-1.453852</td>\n      <td>0.167021</td>\n      <td>-0.363929</td>\n    </tr>\n    <tr>\n      <th>2019-03-06</th>\n      <td>-0.555499</td>\n      <td>-0.119381</td>\n      <td>1.165367</td>\n      <td>-1.258338</td>\n    </tr>\n    <tr>\n      <th>2019-03-02</th>\n      <td>0.515064</td>\n      <td>-0.593003</td>\n      <td>-0.315707</td>\n      <td>-0.000331</td>\n    </tr>\n    <tr>\n      <th>2019-03-04</th>\n      <td>0.575608</td>\n      <td>-1.026387</td>\n      <td>-0.976312</td>\n      <td>0.064135</td>\n    </tr>\n    <tr>\n      <th>2019-03-05</th>\n      <td>0.839982</td>\n      <td>-1.072170</td>\n      <td>-0.721574</td>\n      <td>0.380398</td>\n    </tr>\n  </tbody>\n</table>\n</div>"
     },
     "execution_count": 9,
     "metadata": {},
     "output_type": "execute_result"
    }
   ],
   "source": [
    "df.sort_values(by='A')"
   ],
   "metadata": {
    "collapsed": false,
    "pycharm": {
     "name": "#%%\n"
    }
   }
  },
  {
   "cell_type": "code",
   "execution_count": 10,
   "outputs": [
    {
     "data": {
      "text/plain": "                   A         B         C         D\n2019-03-05  0.839982 -1.072170 -0.721574  0.380398\n2019-03-04  0.575608 -1.026387 -0.976312  0.064135\n2019-03-02  0.515064 -0.593003 -0.315707 -0.000331\n2019-03-06 -0.555499 -0.119381  1.165367 -1.258338\n2019-03-01 -1.065280 -1.453852  0.167021 -0.363929\n2019-03-03 -1.225853 -2.253466  0.122340  1.115167",
      "text/html": "<div>\n<style scoped>\n    .dataframe tbody tr th:only-of-type {\n        vertical-align: middle;\n    }\n\n    .dataframe tbody tr th {\n        vertical-align: top;\n    }\n\n    .dataframe thead th {\n        text-align: right;\n    }\n</style>\n<table border=\"1\" class=\"dataframe\">\n  <thead>\n    <tr style=\"text-align: right;\">\n      <th></th>\n      <th>A</th>\n      <th>B</th>\n      <th>C</th>\n      <th>D</th>\n    </tr>\n  </thead>\n  <tbody>\n    <tr>\n      <th>2019-03-05</th>\n      <td>0.839982</td>\n      <td>-1.072170</td>\n      <td>-0.721574</td>\n      <td>0.380398</td>\n    </tr>\n    <tr>\n      <th>2019-03-04</th>\n      <td>0.575608</td>\n      <td>-1.026387</td>\n      <td>-0.976312</td>\n      <td>0.064135</td>\n    </tr>\n    <tr>\n      <th>2019-03-02</th>\n      <td>0.515064</td>\n      <td>-0.593003</td>\n      <td>-0.315707</td>\n      <td>-0.000331</td>\n    </tr>\n    <tr>\n      <th>2019-03-06</th>\n      <td>-0.555499</td>\n      <td>-0.119381</td>\n      <td>1.165367</td>\n      <td>-1.258338</td>\n    </tr>\n    <tr>\n      <th>2019-03-01</th>\n      <td>-1.065280</td>\n      <td>-1.453852</td>\n      <td>0.167021</td>\n      <td>-0.363929</td>\n    </tr>\n    <tr>\n      <th>2019-03-03</th>\n      <td>-1.225853</td>\n      <td>-2.253466</td>\n      <td>0.122340</td>\n      <td>1.115167</td>\n    </tr>\n  </tbody>\n</table>\n</div>"
     },
     "execution_count": 10,
     "metadata": {},
     "output_type": "execute_result"
    }
   ],
   "source": [
    "df.sort_values(by='A', ascending=False)"
   ],
   "metadata": {
    "collapsed": false,
    "pycharm": {
     "name": "#%%\n"
    }
   }
  },
  {
   "cell_type": "code",
   "execution_count": 11,
   "outputs": [
    {
     "data": {
      "text/plain": "2019-03-01   -1.065280\n2019-03-02    0.515064\n2019-03-03   -1.225853\n2019-03-04    0.575608\n2019-03-05    0.839982\n2019-03-06   -0.555499\nFreq: D, Name: A, dtype: float64"
     },
     "execution_count": 11,
     "metadata": {},
     "output_type": "execute_result"
    }
   ],
   "source": [
    "df['A']"
   ],
   "metadata": {
    "collapsed": false,
    "pycharm": {
     "name": "#%%\n"
    }
   }
  },
  {
   "cell_type": "code",
   "execution_count": 12,
   "outputs": [
    {
     "data": {
      "text/plain": "pandas.core.series.Series"
     },
     "execution_count": 12,
     "metadata": {},
     "output_type": "execute_result"
    }
   ],
   "source": [
    "type(df['A'])"
   ],
   "metadata": {
    "collapsed": false,
    "pycharm": {
     "name": "#%%\n"
    }
   }
  },
  {
   "cell_type": "code",
   "execution_count": 13,
   "outputs": [
    {
     "data": {
      "text/plain": "                   A         B         C         D\n2019-03-01 -1.065280 -1.453852  0.167021 -0.363929\n2019-03-02  0.515064 -0.593003 -0.315707 -0.000331\n2019-03-03 -1.225853 -2.253466  0.122340  1.115167",
      "text/html": "<div>\n<style scoped>\n    .dataframe tbody tr th:only-of-type {\n        vertical-align: middle;\n    }\n\n    .dataframe tbody tr th {\n        vertical-align: top;\n    }\n\n    .dataframe thead th {\n        text-align: right;\n    }\n</style>\n<table border=\"1\" class=\"dataframe\">\n  <thead>\n    <tr style=\"text-align: right;\">\n      <th></th>\n      <th>A</th>\n      <th>B</th>\n      <th>C</th>\n      <th>D</th>\n    </tr>\n  </thead>\n  <tbody>\n    <tr>\n      <th>2019-03-01</th>\n      <td>-1.065280</td>\n      <td>-1.453852</td>\n      <td>0.167021</td>\n      <td>-0.363929</td>\n    </tr>\n    <tr>\n      <th>2019-03-02</th>\n      <td>0.515064</td>\n      <td>-0.593003</td>\n      <td>-0.315707</td>\n      <td>-0.000331</td>\n    </tr>\n    <tr>\n      <th>2019-03-03</th>\n      <td>-1.225853</td>\n      <td>-2.253466</td>\n      <td>0.122340</td>\n      <td>1.115167</td>\n    </tr>\n  </tbody>\n</table>\n</div>"
     },
     "execution_count": 13,
     "metadata": {},
     "output_type": "execute_result"
    }
   ],
   "source": [
    "df[0:3]"
   ],
   "metadata": {
    "collapsed": false,
    "pycharm": {
     "name": "#%%\n"
    }
   }
  },
  {
   "cell_type": "code",
   "execution_count": 14,
   "outputs": [
    {
     "data": {
      "text/plain": "A   -1.065280\nB   -1.453852\nC    0.167021\nD   -0.363929\nName: 2019-03-01 00:00:00, dtype: float64"
     },
     "execution_count": 14,
     "metadata": {},
     "output_type": "execute_result"
    }
   ],
   "source": [
    "df.loc['2019-03-01']"
   ],
   "metadata": {
    "collapsed": false,
    "pycharm": {
     "name": "#%%\n"
    }
   }
  },
  {
   "cell_type": "code",
   "execution_count": 15,
   "outputs": [
    {
     "data": {
      "text/plain": "A   -1.06528\nName: 2019-03-01 00:00:00, dtype: float64"
     },
     "execution_count": 15,
     "metadata": {},
     "output_type": "execute_result"
    }
   ],
   "source": [
    "df.loc['2019-03-01', ['A']]"
   ],
   "metadata": {
    "collapsed": false,
    "pycharm": {
     "name": "#%%\n"
    }
   }
  },
  {
   "cell_type": "code",
   "execution_count": 16,
   "outputs": [
    {
     "data": {
      "text/plain": "A   -1.065280\nB   -1.453852\nName: 2019-03-01 00:00:00, dtype: float64"
     },
     "execution_count": 16,
     "metadata": {},
     "output_type": "execute_result"
    }
   ],
   "source": [
    "df.loc['2019-03-01', ['A', 'B']]"
   ],
   "metadata": {
    "collapsed": false,
    "pycharm": {
     "name": "#%%\n"
    }
   }
  },
  {
   "cell_type": "code",
   "execution_count": 17,
   "outputs": [
    {
     "data": {
      "text/plain": "                   A         B\n2019-03-01 -1.065280 -1.453852\n2019-03-02  0.515064 -0.593003",
      "text/html": "<div>\n<style scoped>\n    .dataframe tbody tr th:only-of-type {\n        vertical-align: middle;\n    }\n\n    .dataframe tbody tr th {\n        vertical-align: top;\n    }\n\n    .dataframe thead th {\n        text-align: right;\n    }\n</style>\n<table border=\"1\" class=\"dataframe\">\n  <thead>\n    <tr style=\"text-align: right;\">\n      <th></th>\n      <th>A</th>\n      <th>B</th>\n    </tr>\n  </thead>\n  <tbody>\n    <tr>\n      <th>2019-03-01</th>\n      <td>-1.065280</td>\n      <td>-1.453852</td>\n    </tr>\n    <tr>\n      <th>2019-03-02</th>\n      <td>0.515064</td>\n      <td>-0.593003</td>\n    </tr>\n  </tbody>\n</table>\n</div>"
     },
     "execution_count": 17,
     "metadata": {},
     "output_type": "execute_result"
    }
   ],
   "source": [
    "df.loc['2019-03-01':'2019-03-02', ['A', 'B']]"
   ],
   "metadata": {
    "collapsed": false,
    "pycharm": {
     "name": "#%%\n"
    }
   }
  },
  {
   "cell_type": "code",
   "execution_count": 18,
   "outputs": [
    {
     "data": {
      "text/plain": "                   A         B\n2019-03-01 -1.065280 -1.453852\n2019-03-02  0.515064 -0.593003\n2019-03-03 -1.225853 -2.253466\n2019-03-04  0.575608 -1.026387\n2019-03-05  0.839982 -1.072170\n2019-03-06 -0.555499 -0.119381",
      "text/html": "<div>\n<style scoped>\n    .dataframe tbody tr th:only-of-type {\n        vertical-align: middle;\n    }\n\n    .dataframe tbody tr th {\n        vertical-align: top;\n    }\n\n    .dataframe thead th {\n        text-align: right;\n    }\n</style>\n<table border=\"1\" class=\"dataframe\">\n  <thead>\n    <tr style=\"text-align: right;\">\n      <th></th>\n      <th>A</th>\n      <th>B</th>\n    </tr>\n  </thead>\n  <tbody>\n    <tr>\n      <th>2019-03-01</th>\n      <td>-1.065280</td>\n      <td>-1.453852</td>\n    </tr>\n    <tr>\n      <th>2019-03-02</th>\n      <td>0.515064</td>\n      <td>-0.593003</td>\n    </tr>\n    <tr>\n      <th>2019-03-03</th>\n      <td>-1.225853</td>\n      <td>-2.253466</td>\n    </tr>\n    <tr>\n      <th>2019-03-04</th>\n      <td>0.575608</td>\n      <td>-1.026387</td>\n    </tr>\n    <tr>\n      <th>2019-03-05</th>\n      <td>0.839982</td>\n      <td>-1.072170</td>\n    </tr>\n    <tr>\n      <th>2019-03-06</th>\n      <td>-0.555499</td>\n      <td>-0.119381</td>\n    </tr>\n  </tbody>\n</table>\n</div>"
     },
     "execution_count": 18,
     "metadata": {},
     "output_type": "execute_result"
    }
   ],
   "source": [
    "df.loc[:, ['A', 'B']]"
   ],
   "metadata": {
    "collapsed": false,
    "pycharm": {
     "name": "#%%\n"
    }
   }
  },
  {
   "cell_type": "code",
   "execution_count": 19,
   "outputs": [
    {
     "data": {
      "text/plain": "                   A         B         C         D\n2019-03-01 -1.065280 -1.453852  0.167021 -0.363929\n2019-03-02  0.515064 -0.593003 -0.315707 -0.000331",
      "text/html": "<div>\n<style scoped>\n    .dataframe tbody tr th:only-of-type {\n        vertical-align: middle;\n    }\n\n    .dataframe tbody tr th {\n        vertical-align: top;\n    }\n\n    .dataframe thead th {\n        text-align: right;\n    }\n</style>\n<table border=\"1\" class=\"dataframe\">\n  <thead>\n    <tr style=\"text-align: right;\">\n      <th></th>\n      <th>A</th>\n      <th>B</th>\n      <th>C</th>\n      <th>D</th>\n    </tr>\n  </thead>\n  <tbody>\n    <tr>\n      <th>2019-03-01</th>\n      <td>-1.065280</td>\n      <td>-1.453852</td>\n      <td>0.167021</td>\n      <td>-0.363929</td>\n    </tr>\n    <tr>\n      <th>2019-03-02</th>\n      <td>0.515064</td>\n      <td>-0.593003</td>\n      <td>-0.315707</td>\n      <td>-0.000331</td>\n    </tr>\n  </tbody>\n</table>\n</div>"
     },
     "execution_count": 19,
     "metadata": {},
     "output_type": "execute_result"
    }
   ],
   "source": [
    "df.iloc[0:2]"
   ],
   "metadata": {
    "collapsed": false,
    "pycharm": {
     "name": "#%%\n"
    }
   }
  },
  {
   "cell_type": "code",
   "execution_count": 20,
   "outputs": [
    {
     "data": {
      "text/plain": "                   A         B\n2019-03-01 -1.065280 -1.453852\n2019-03-02  0.515064 -0.593003",
      "text/html": "<div>\n<style scoped>\n    .dataframe tbody tr th:only-of-type {\n        vertical-align: middle;\n    }\n\n    .dataframe tbody tr th {\n        vertical-align: top;\n    }\n\n    .dataframe thead th {\n        text-align: right;\n    }\n</style>\n<table border=\"1\" class=\"dataframe\">\n  <thead>\n    <tr style=\"text-align: right;\">\n      <th></th>\n      <th>A</th>\n      <th>B</th>\n    </tr>\n  </thead>\n  <tbody>\n    <tr>\n      <th>2019-03-01</th>\n      <td>-1.065280</td>\n      <td>-1.453852</td>\n    </tr>\n    <tr>\n      <th>2019-03-02</th>\n      <td>0.515064</td>\n      <td>-0.593003</td>\n    </tr>\n  </tbody>\n</table>\n</div>"
     },
     "execution_count": 20,
     "metadata": {},
     "output_type": "execute_result"
    }
   ],
   "source": [
    "df.iloc[0:2, 0:2]"
   ],
   "metadata": {
    "collapsed": false,
    "pycharm": {
     "name": "#%%\n"
    }
   }
  },
  {
   "cell_type": "code",
   "execution_count": 21,
   "outputs": [
    {
     "data": {
      "text/plain": "                   A         B\n2019-03-01 -1.065280 -1.453852\n2019-03-02  0.515064 -0.593003\n2019-03-04  0.575608 -1.026387",
      "text/html": "<div>\n<style scoped>\n    .dataframe tbody tr th:only-of-type {\n        vertical-align: middle;\n    }\n\n    .dataframe tbody tr th {\n        vertical-align: top;\n    }\n\n    .dataframe thead th {\n        text-align: right;\n    }\n</style>\n<table border=\"1\" class=\"dataframe\">\n  <thead>\n    <tr style=\"text-align: right;\">\n      <th></th>\n      <th>A</th>\n      <th>B</th>\n    </tr>\n  </thead>\n  <tbody>\n    <tr>\n      <th>2019-03-01</th>\n      <td>-1.065280</td>\n      <td>-1.453852</td>\n    </tr>\n    <tr>\n      <th>2019-03-02</th>\n      <td>0.515064</td>\n      <td>-0.593003</td>\n    </tr>\n    <tr>\n      <th>2019-03-04</th>\n      <td>0.575608</td>\n      <td>-1.026387</td>\n    </tr>\n  </tbody>\n</table>\n</div>"
     },
     "execution_count": 21,
     "metadata": {},
     "output_type": "execute_result"
    }
   ],
   "source": [
    "df.iloc[[0, 1, 3], 0:2]"
   ],
   "metadata": {
    "collapsed": false,
    "pycharm": {
     "name": "#%%\n"
    }
   }
  },
  {
   "cell_type": "code",
   "execution_count": 22,
   "outputs": [
    {
     "data": {
      "text/plain": "                   A         B         C         D\n2019-03-01 -1.065280 -1.453852  0.167021 -0.363929\n2019-03-02  0.515064 -0.593003 -0.315707 -0.000331\n2019-03-04  0.575608 -1.026387 -0.976312  0.064135",
      "text/html": "<div>\n<style scoped>\n    .dataframe tbody tr th:only-of-type {\n        vertical-align: middle;\n    }\n\n    .dataframe tbody tr th {\n        vertical-align: top;\n    }\n\n    .dataframe thead th {\n        text-align: right;\n    }\n</style>\n<table border=\"1\" class=\"dataframe\">\n  <thead>\n    <tr style=\"text-align: right;\">\n      <th></th>\n      <th>A</th>\n      <th>B</th>\n      <th>C</th>\n      <th>D</th>\n    </tr>\n  </thead>\n  <tbody>\n    <tr>\n      <th>2019-03-01</th>\n      <td>-1.065280</td>\n      <td>-1.453852</td>\n      <td>0.167021</td>\n      <td>-0.363929</td>\n    </tr>\n    <tr>\n      <th>2019-03-02</th>\n      <td>0.515064</td>\n      <td>-0.593003</td>\n      <td>-0.315707</td>\n      <td>-0.000331</td>\n    </tr>\n    <tr>\n      <th>2019-03-04</th>\n      <td>0.575608</td>\n      <td>-1.026387</td>\n      <td>-0.976312</td>\n      <td>0.064135</td>\n    </tr>\n  </tbody>\n</table>\n</div>"
     },
     "execution_count": 22,
     "metadata": {},
     "output_type": "execute_result"
    }
   ],
   "source": [
    "df.iloc[[0, 1, 3]]"
   ],
   "metadata": {
    "collapsed": false,
    "pycharm": {
     "name": "#%%\n"
    }
   }
  },
  {
   "cell_type": "code",
   "execution_count": 23,
   "outputs": [
    {
     "data": {
      "text/plain": "2019-03-01    False\n2019-03-02     True\n2019-03-03    False\n2019-03-04     True\n2019-03-05     True\n2019-03-06    False\nFreq: D, Name: A, dtype: bool"
     },
     "execution_count": 23,
     "metadata": {},
     "output_type": "execute_result"
    }
   ],
   "source": [
    "df['A'] > 0"
   ],
   "metadata": {
    "collapsed": false,
    "pycharm": {
     "name": "#%%\n"
    }
   }
  },
  {
   "cell_type": "code",
   "execution_count": 24,
   "outputs": [
    {
     "data": {
      "text/plain": "                   A         B         C         D\n2019-03-02  0.515064 -0.593003 -0.315707 -0.000331\n2019-03-04  0.575608 -1.026387 -0.976312  0.064135\n2019-03-05  0.839982 -1.072170 -0.721574  0.380398",
      "text/html": "<div>\n<style scoped>\n    .dataframe tbody tr th:only-of-type {\n        vertical-align: middle;\n    }\n\n    .dataframe tbody tr th {\n        vertical-align: top;\n    }\n\n    .dataframe thead th {\n        text-align: right;\n    }\n</style>\n<table border=\"1\" class=\"dataframe\">\n  <thead>\n    <tr style=\"text-align: right;\">\n      <th></th>\n      <th>A</th>\n      <th>B</th>\n      <th>C</th>\n      <th>D</th>\n    </tr>\n  </thead>\n  <tbody>\n    <tr>\n      <th>2019-03-02</th>\n      <td>0.515064</td>\n      <td>-0.593003</td>\n      <td>-0.315707</td>\n      <td>-0.000331</td>\n    </tr>\n    <tr>\n      <th>2019-03-04</th>\n      <td>0.575608</td>\n      <td>-1.026387</td>\n      <td>-0.976312</td>\n      <td>0.064135</td>\n    </tr>\n    <tr>\n      <th>2019-03-05</th>\n      <td>0.839982</td>\n      <td>-1.072170</td>\n      <td>-0.721574</td>\n      <td>0.380398</td>\n    </tr>\n  </tbody>\n</table>\n</div>"
     },
     "execution_count": 24,
     "metadata": {},
     "output_type": "execute_result"
    }
   ],
   "source": [
    "df[df['A'] > 0]"
   ],
   "metadata": {
    "collapsed": false,
    "pycharm": {
     "name": "#%%\n"
    }
   }
  },
  {
   "cell_type": "code",
   "execution_count": 25,
   "outputs": [
    {
     "data": {
      "text/plain": "                A      B      C      D\n2019-03-01  False  False   True  False\n2019-03-02   True  False  False  False\n2019-03-03  False  False   True   True\n2019-03-04   True  False  False   True\n2019-03-05   True  False  False   True\n2019-03-06  False  False   True  False",
      "text/html": "<div>\n<style scoped>\n    .dataframe tbody tr th:only-of-type {\n        vertical-align: middle;\n    }\n\n    .dataframe tbody tr th {\n        vertical-align: top;\n    }\n\n    .dataframe thead th {\n        text-align: right;\n    }\n</style>\n<table border=\"1\" class=\"dataframe\">\n  <thead>\n    <tr style=\"text-align: right;\">\n      <th></th>\n      <th>A</th>\n      <th>B</th>\n      <th>C</th>\n      <th>D</th>\n    </tr>\n  </thead>\n  <tbody>\n    <tr>\n      <th>2019-03-01</th>\n      <td>False</td>\n      <td>False</td>\n      <td>True</td>\n      <td>False</td>\n    </tr>\n    <tr>\n      <th>2019-03-02</th>\n      <td>True</td>\n      <td>False</td>\n      <td>False</td>\n      <td>False</td>\n    </tr>\n    <tr>\n      <th>2019-03-03</th>\n      <td>False</td>\n      <td>False</td>\n      <td>True</td>\n      <td>True</td>\n    </tr>\n    <tr>\n      <th>2019-03-04</th>\n      <td>True</td>\n      <td>False</td>\n      <td>False</td>\n      <td>True</td>\n    </tr>\n    <tr>\n      <th>2019-03-05</th>\n      <td>True</td>\n      <td>False</td>\n      <td>False</td>\n      <td>True</td>\n    </tr>\n    <tr>\n      <th>2019-03-06</th>\n      <td>False</td>\n      <td>False</td>\n      <td>True</td>\n      <td>False</td>\n    </tr>\n  </tbody>\n</table>\n</div>"
     },
     "execution_count": 25,
     "metadata": {},
     "output_type": "execute_result"
    }
   ],
   "source": [
    "df > 0"
   ],
   "metadata": {
    "collapsed": false,
    "pycharm": {
     "name": "#%%\n"
    }
   }
  },
  {
   "cell_type": "code",
   "execution_count": 26,
   "outputs": [
    {
     "data": {
      "text/plain": "                   A   B         C         D\n2019-03-01       NaN NaN  0.167021       NaN\n2019-03-02  0.515064 NaN       NaN       NaN\n2019-03-03       NaN NaN  0.122340  1.115167\n2019-03-04  0.575608 NaN       NaN  0.064135\n2019-03-05  0.839982 NaN       NaN  0.380398\n2019-03-06       NaN NaN  1.165367       NaN",
      "text/html": "<div>\n<style scoped>\n    .dataframe tbody tr th:only-of-type {\n        vertical-align: middle;\n    }\n\n    .dataframe tbody tr th {\n        vertical-align: top;\n    }\n\n    .dataframe thead th {\n        text-align: right;\n    }\n</style>\n<table border=\"1\" class=\"dataframe\">\n  <thead>\n    <tr style=\"text-align: right;\">\n      <th></th>\n      <th>A</th>\n      <th>B</th>\n      <th>C</th>\n      <th>D</th>\n    </tr>\n  </thead>\n  <tbody>\n    <tr>\n      <th>2019-03-01</th>\n      <td>NaN</td>\n      <td>NaN</td>\n      <td>0.167021</td>\n      <td>NaN</td>\n    </tr>\n    <tr>\n      <th>2019-03-02</th>\n      <td>0.515064</td>\n      <td>NaN</td>\n      <td>NaN</td>\n      <td>NaN</td>\n    </tr>\n    <tr>\n      <th>2019-03-03</th>\n      <td>NaN</td>\n      <td>NaN</td>\n      <td>0.122340</td>\n      <td>1.115167</td>\n    </tr>\n    <tr>\n      <th>2019-03-04</th>\n      <td>0.575608</td>\n      <td>NaN</td>\n      <td>NaN</td>\n      <td>0.064135</td>\n    </tr>\n    <tr>\n      <th>2019-03-05</th>\n      <td>0.839982</td>\n      <td>NaN</td>\n      <td>NaN</td>\n      <td>0.380398</td>\n    </tr>\n    <tr>\n      <th>2019-03-06</th>\n      <td>NaN</td>\n      <td>NaN</td>\n      <td>1.165367</td>\n      <td>NaN</td>\n    </tr>\n  </tbody>\n</table>\n</div>"
     },
     "execution_count": 26,
     "metadata": {},
     "output_type": "execute_result"
    }
   ],
   "source": [
    "df[df > 0]"
   ],
   "metadata": {
    "collapsed": false,
    "pycharm": {
     "name": "#%%\n"
    }
   }
  },
  {
   "cell_type": "code",
   "execution_count": 27,
   "outputs": [
    {
     "data": {
      "text/plain": "                   A         C         D         B\n2019-03-01 -1.065280  0.167021 -0.363929 -1.453852\n2019-03-02  0.515064 -0.315707 -0.000331 -0.593003\n2019-03-03 -1.225853  0.122340  1.115167 -2.253466\n2019-03-04  0.575608 -0.976312  0.064135 -1.026387\n2019-03-05  0.839982 -0.721574  0.380398 -1.072170\n2019-03-06 -0.555499  1.165367 -1.258338 -0.119381",
      "text/html": "<div>\n<style scoped>\n    .dataframe tbody tr th:only-of-type {\n        vertical-align: middle;\n    }\n\n    .dataframe tbody tr th {\n        vertical-align: top;\n    }\n\n    .dataframe thead th {\n        text-align: right;\n    }\n</style>\n<table border=\"1\" class=\"dataframe\">\n  <thead>\n    <tr style=\"text-align: right;\">\n      <th></th>\n      <th>A</th>\n      <th>C</th>\n      <th>D</th>\n      <th>B</th>\n    </tr>\n  </thead>\n  <tbody>\n    <tr>\n      <th>2019-03-01</th>\n      <td>-1.065280</td>\n      <td>0.167021</td>\n      <td>-0.363929</td>\n      <td>-1.453852</td>\n    </tr>\n    <tr>\n      <th>2019-03-02</th>\n      <td>0.515064</td>\n      <td>-0.315707</td>\n      <td>-0.000331</td>\n      <td>-0.593003</td>\n    </tr>\n    <tr>\n      <th>2019-03-03</th>\n      <td>-1.225853</td>\n      <td>0.122340</td>\n      <td>1.115167</td>\n      <td>-2.253466</td>\n    </tr>\n    <tr>\n      <th>2019-03-04</th>\n      <td>0.575608</td>\n      <td>-0.976312</td>\n      <td>0.064135</td>\n      <td>-1.026387</td>\n    </tr>\n    <tr>\n      <th>2019-03-05</th>\n      <td>0.839982</td>\n      <td>-0.721574</td>\n      <td>0.380398</td>\n      <td>-1.072170</td>\n    </tr>\n    <tr>\n      <th>2019-03-06</th>\n      <td>-0.555499</td>\n      <td>1.165367</td>\n      <td>-1.258338</td>\n      <td>-0.119381</td>\n    </tr>\n  </tbody>\n</table>\n</div>"
     },
     "execution_count": 27,
     "metadata": {},
     "output_type": "execute_result"
    }
   ],
   "source": [
    "df2 = pd.DataFrame(df, columns=['A', 'C', 'D', 'B'])\n",
    "df2"
   ],
   "metadata": {
    "collapsed": false,
    "pycharm": {
     "name": "#%%\n"
    }
   }
  },
  {
   "cell_type": "code",
   "execution_count": 28,
   "outputs": [
    {
     "data": {
      "text/plain": "                   A         B         C         D   E\n2019-03-01 -1.065280 -1.453852  0.167021 -0.363929 NaN\n2019-03-02  0.515064 -0.593003 -0.315707 -0.000331 NaN\n2019-03-03 -1.225853 -2.253466  0.122340  1.115167 NaN\n2019-03-04  0.575608 -1.026387 -0.976312  0.064135 NaN\n2019-03-05  0.839982 -1.072170 -0.721574  0.380398 NaN\n2019-03-06 -0.555499 -0.119381  1.165367 -1.258338 NaN",
      "text/html": "<div>\n<style scoped>\n    .dataframe tbody tr th:only-of-type {\n        vertical-align: middle;\n    }\n\n    .dataframe tbody tr th {\n        vertical-align: top;\n    }\n\n    .dataframe thead th {\n        text-align: right;\n    }\n</style>\n<table border=\"1\" class=\"dataframe\">\n  <thead>\n    <tr style=\"text-align: right;\">\n      <th></th>\n      <th>A</th>\n      <th>B</th>\n      <th>C</th>\n      <th>D</th>\n      <th>E</th>\n    </tr>\n  </thead>\n  <tbody>\n    <tr>\n      <th>2019-03-01</th>\n      <td>-1.065280</td>\n      <td>-1.453852</td>\n      <td>0.167021</td>\n      <td>-0.363929</td>\n      <td>NaN</td>\n    </tr>\n    <tr>\n      <th>2019-03-02</th>\n      <td>0.515064</td>\n      <td>-0.593003</td>\n      <td>-0.315707</td>\n      <td>-0.000331</td>\n      <td>NaN</td>\n    </tr>\n    <tr>\n      <th>2019-03-03</th>\n      <td>-1.225853</td>\n      <td>-2.253466</td>\n      <td>0.122340</td>\n      <td>1.115167</td>\n      <td>NaN</td>\n    </tr>\n    <tr>\n      <th>2019-03-04</th>\n      <td>0.575608</td>\n      <td>-1.026387</td>\n      <td>-0.976312</td>\n      <td>0.064135</td>\n      <td>NaN</td>\n    </tr>\n    <tr>\n      <th>2019-03-05</th>\n      <td>0.839982</td>\n      <td>-1.072170</td>\n      <td>-0.721574</td>\n      <td>0.380398</td>\n      <td>NaN</td>\n    </tr>\n    <tr>\n      <th>2019-03-06</th>\n      <td>-0.555499</td>\n      <td>-0.119381</td>\n      <td>1.165367</td>\n      <td>-1.258338</td>\n      <td>NaN</td>\n    </tr>\n  </tbody>\n</table>\n</div>"
     },
     "execution_count": 28,
     "metadata": {},
     "output_type": "execute_result"
    }
   ],
   "source": [
    "df['E'] = np.nan\n",
    "df"
   ],
   "metadata": {
    "collapsed": false,
    "pycharm": {
     "name": "#%%\n"
    }
   }
  },
  {
   "cell_type": "code",
   "execution_count": 29,
   "outputs": [
    {
     "data": {
      "text/plain": "                   A         B         C         D    E\n2019-03-01 -1.065280 -1.453852  0.167021 -0.363929  NaN\n2019-03-02  0.515064 -0.593003 -0.315707 -0.000331  2.0\n2019-03-03 -1.225853 -2.253466  0.122340  1.115167  NaN\n2019-03-04  0.575608 -1.026387 -0.976312  0.064135  NaN\n2019-03-05  0.839982 -1.072170 -0.721574  0.380398  NaN\n2019-03-06 -0.555499 -0.119381  1.165367 -1.258338  NaN",
      "text/html": "<div>\n<style scoped>\n    .dataframe tbody tr th:only-of-type {\n        vertical-align: middle;\n    }\n\n    .dataframe tbody tr th {\n        vertical-align: top;\n    }\n\n    .dataframe thead th {\n        text-align: right;\n    }\n</style>\n<table border=\"1\" class=\"dataframe\">\n  <thead>\n    <tr style=\"text-align: right;\">\n      <th></th>\n      <th>A</th>\n      <th>B</th>\n      <th>C</th>\n      <th>D</th>\n      <th>E</th>\n    </tr>\n  </thead>\n  <tbody>\n    <tr>\n      <th>2019-03-01</th>\n      <td>-1.065280</td>\n      <td>-1.453852</td>\n      <td>0.167021</td>\n      <td>-0.363929</td>\n      <td>NaN</td>\n    </tr>\n    <tr>\n      <th>2019-03-02</th>\n      <td>0.515064</td>\n      <td>-0.593003</td>\n      <td>-0.315707</td>\n      <td>-0.000331</td>\n      <td>2.0</td>\n    </tr>\n    <tr>\n      <th>2019-03-03</th>\n      <td>-1.225853</td>\n      <td>-2.253466</td>\n      <td>0.122340</td>\n      <td>1.115167</td>\n      <td>NaN</td>\n    </tr>\n    <tr>\n      <th>2019-03-04</th>\n      <td>0.575608</td>\n      <td>-1.026387</td>\n      <td>-0.976312</td>\n      <td>0.064135</td>\n      <td>NaN</td>\n    </tr>\n    <tr>\n      <th>2019-03-05</th>\n      <td>0.839982</td>\n      <td>-1.072170</td>\n      <td>-0.721574</td>\n      <td>0.380398</td>\n      <td>NaN</td>\n    </tr>\n    <tr>\n      <th>2019-03-06</th>\n      <td>-0.555499</td>\n      <td>-0.119381</td>\n      <td>1.165367</td>\n      <td>-1.258338</td>\n      <td>NaN</td>\n    </tr>\n  </tbody>\n</table>\n</div>"
     },
     "execution_count": 29,
     "metadata": {},
     "output_type": "execute_result"
    }
   ],
   "source": [
    "df.loc['2019-03-02', ['E']] = 2\n",
    "df"
   ],
   "metadata": {
    "collapsed": false,
    "pycharm": {
     "name": "#%%\n"
    }
   }
  },
  {
   "cell_type": "code",
   "execution_count": 30,
   "outputs": [
    {
     "data": {
      "text/plain": "                   A         B         C         D    E         F\n2019-03-01 -1.065280 -1.453852  0.167021 -0.363929  NaN -2.519132\n2019-03-02  0.515064 -0.593003 -0.315707 -0.000331  2.0 -0.077940\n2019-03-03 -1.225853 -2.253466  0.122340  1.115167  NaN -3.479319\n2019-03-04  0.575608 -1.026387 -0.976312  0.064135  NaN -0.450779\n2019-03-05  0.839982 -1.072170 -0.721574  0.380398  NaN -0.232188\n2019-03-06 -0.555499 -0.119381  1.165367 -1.258338  NaN -0.674880",
      "text/html": "<div>\n<style scoped>\n    .dataframe tbody tr th:only-of-type {\n        vertical-align: middle;\n    }\n\n    .dataframe tbody tr th {\n        vertical-align: top;\n    }\n\n    .dataframe thead th {\n        text-align: right;\n    }\n</style>\n<table border=\"1\" class=\"dataframe\">\n  <thead>\n    <tr style=\"text-align: right;\">\n      <th></th>\n      <th>A</th>\n      <th>B</th>\n      <th>C</th>\n      <th>D</th>\n      <th>E</th>\n      <th>F</th>\n    </tr>\n  </thead>\n  <tbody>\n    <tr>\n      <th>2019-03-01</th>\n      <td>-1.065280</td>\n      <td>-1.453852</td>\n      <td>0.167021</td>\n      <td>-0.363929</td>\n      <td>NaN</td>\n      <td>-2.519132</td>\n    </tr>\n    <tr>\n      <th>2019-03-02</th>\n      <td>0.515064</td>\n      <td>-0.593003</td>\n      <td>-0.315707</td>\n      <td>-0.000331</td>\n      <td>2.0</td>\n      <td>-0.077940</td>\n    </tr>\n    <tr>\n      <th>2019-03-03</th>\n      <td>-1.225853</td>\n      <td>-2.253466</td>\n      <td>0.122340</td>\n      <td>1.115167</td>\n      <td>NaN</td>\n      <td>-3.479319</td>\n    </tr>\n    <tr>\n      <th>2019-03-04</th>\n      <td>0.575608</td>\n      <td>-1.026387</td>\n      <td>-0.976312</td>\n      <td>0.064135</td>\n      <td>NaN</td>\n      <td>-0.450779</td>\n    </tr>\n    <tr>\n      <th>2019-03-05</th>\n      <td>0.839982</td>\n      <td>-1.072170</td>\n      <td>-0.721574</td>\n      <td>0.380398</td>\n      <td>NaN</td>\n      <td>-0.232188</td>\n    </tr>\n    <tr>\n      <th>2019-03-06</th>\n      <td>-0.555499</td>\n      <td>-0.119381</td>\n      <td>1.165367</td>\n      <td>-1.258338</td>\n      <td>NaN</td>\n      <td>-0.674880</td>\n    </tr>\n  </tbody>\n</table>\n</div>"
     },
     "execution_count": 30,
     "metadata": {},
     "output_type": "execute_result"
    }
   ],
   "source": [
    "df['F'] = df['A'] + df['B']\n",
    "df"
   ],
   "metadata": {
    "collapsed": false,
    "pycharm": {
     "name": "#%%\n"
    }
   }
  },
  {
   "cell_type": "code",
   "execution_count": 36,
   "outputs": [
    {
     "data": {
      "text/plain": "     기간  구분 스트레스 인지율 스트레스 인지율.1 스트레스 인지율.2 우울감 경험률 우울감 경험률.1 우울감 경험률.2 자살 생각률  \\\n0    기간  구분       전체        남학생        여학생      전체       남학생       여학생     전체   \n1  2019  구분     41.6         34       49.7    29.5      24.5      34.8   14.2   \n\n  자살 생각률.1 자살 생각률.2  \n0      남학생      여학생  \n1     10.8     17.9  ",
      "text/html": "<div>\n<style scoped>\n    .dataframe tbody tr th:only-of-type {\n        vertical-align: middle;\n    }\n\n    .dataframe tbody tr th {\n        vertical-align: top;\n    }\n\n    .dataframe thead th {\n        text-align: right;\n    }\n</style>\n<table border=\"1\" class=\"dataframe\">\n  <thead>\n    <tr style=\"text-align: right;\">\n      <th></th>\n      <th>기간</th>\n      <th>구분</th>\n      <th>스트레스 인지율</th>\n      <th>스트레스 인지율.1</th>\n      <th>스트레스 인지율.2</th>\n      <th>우울감 경험률</th>\n      <th>우울감 경험률.1</th>\n      <th>우울감 경험률.2</th>\n      <th>자살 생각률</th>\n      <th>자살 생각률.1</th>\n      <th>자살 생각률.2</th>\n    </tr>\n  </thead>\n  <tbody>\n    <tr>\n      <th>0</th>\n      <td>기간</td>\n      <td>구분</td>\n      <td>전체</td>\n      <td>남학생</td>\n      <td>여학생</td>\n      <td>전체</td>\n      <td>남학생</td>\n      <td>여학생</td>\n      <td>전체</td>\n      <td>남학생</td>\n      <td>여학생</td>\n    </tr>\n    <tr>\n      <th>1</th>\n      <td>2019</td>\n      <td>구분</td>\n      <td>41.6</td>\n      <td>34</td>\n      <td>49.7</td>\n      <td>29.5</td>\n      <td>24.5</td>\n      <td>34.8</td>\n      <td>14.2</td>\n      <td>10.8</td>\n      <td>17.9</td>\n    </tr>\n  </tbody>\n</table>\n</div>"
     },
     "execution_count": 36,
     "metadata": {},
     "output_type": "execute_result"
    }
   ],
   "source": [
    "pd.read_csv('data/teenage_mental.txt', sep='\\t')"
   ],
   "metadata": {
    "collapsed": false,
    "pycharm": {
     "name": "#%%\n"
    }
   }
  },
  {
   "cell_type": "code",
   "execution_count": 37,
   "outputs": [
    {
     "data": {
      "text/plain": "     기간  구분    전체  남학생   여학생  전체.1  남학생.1  여학생.1  전체.2  남학생.2  여학생.2\n0  2019  구분  41.6   34  49.7  29.5   24.5   34.8  14.2   10.8   17.9",
      "text/html": "<div>\n<style scoped>\n    .dataframe tbody tr th:only-of-type {\n        vertical-align: middle;\n    }\n\n    .dataframe tbody tr th {\n        vertical-align: top;\n    }\n\n    .dataframe thead th {\n        text-align: right;\n    }\n</style>\n<table border=\"1\" class=\"dataframe\">\n  <thead>\n    <tr style=\"text-align: right;\">\n      <th></th>\n      <th>기간</th>\n      <th>구분</th>\n      <th>전체</th>\n      <th>남학생</th>\n      <th>여학생</th>\n      <th>전체.1</th>\n      <th>남학생.1</th>\n      <th>여학생.1</th>\n      <th>전체.2</th>\n      <th>남학생.2</th>\n      <th>여학생.2</th>\n    </tr>\n  </thead>\n  <tbody>\n    <tr>\n      <th>0</th>\n      <td>2019</td>\n      <td>구분</td>\n      <td>41.6</td>\n      <td>34</td>\n      <td>49.7</td>\n      <td>29.5</td>\n      <td>24.5</td>\n      <td>34.8</td>\n      <td>14.2</td>\n      <td>10.8</td>\n      <td>17.9</td>\n    </tr>\n  </tbody>\n</table>\n</div>"
     },
     "execution_count": 37,
     "metadata": {},
     "output_type": "execute_result"
    }
   ],
   "source": [
    "pd.read_csv('data/teenage_mental.txt', sep='\\t', header=1)"
   ],
   "metadata": {
    "collapsed": false,
    "pycharm": {
     "name": "#%%\n"
    }
   }
  },
  {
   "cell_type": "code",
   "execution_count": 45,
   "outputs": [
    {
     "data": {
      "text/plain": "     전체  남학생   여학생  전체.1  남학생.1  여학생.1  전체.2  남학생.2  여학생.2\n0  41.6   34  49.7  29.5   24.5   34.8  14.2   10.8   17.9",
      "text/html": "<div>\n<style scoped>\n    .dataframe tbody tr th:only-of-type {\n        vertical-align: middle;\n    }\n\n    .dataframe tbody tr th {\n        vertical-align: top;\n    }\n\n    .dataframe thead th {\n        text-align: right;\n    }\n</style>\n<table border=\"1\" class=\"dataframe\">\n  <thead>\n    <tr style=\"text-align: right;\">\n      <th></th>\n      <th>전체</th>\n      <th>남학생</th>\n      <th>여학생</th>\n      <th>전체.1</th>\n      <th>남학생.1</th>\n      <th>여학생.1</th>\n      <th>전체.2</th>\n      <th>남학생.2</th>\n      <th>여학생.2</th>\n    </tr>\n  </thead>\n  <tbody>\n    <tr>\n      <th>0</th>\n      <td>41.6</td>\n      <td>34</td>\n      <td>49.7</td>\n      <td>29.5</td>\n      <td>24.5</td>\n      <td>34.8</td>\n      <td>14.2</td>\n      <td>10.8</td>\n      <td>17.9</td>\n    </tr>\n  </tbody>\n</table>\n</div>"
     },
     "execution_count": 45,
     "metadata": {},
     "output_type": "execute_result"
    }
   ],
   "source": [
    "pd.read_csv('data/teenage_mental.txt', sep='\\t', header=1, usecols=[2, 3, 4, 5, 6, 7, 8, 9, 10])"
   ],
   "metadata": {
    "collapsed": false,
    "pycharm": {
     "name": "#%%\n"
    }
   }
  },
  {
   "cell_type": "code",
   "execution_count": 46,
   "outputs": [
    {
     "data": {
      "text/plain": "   스트레스  스트레스남학생  스트레스여학생  우울감경험률  우울남학생  우울여학생  자살생각율  자살남학생  자살여학생\n0  41.6       34     49.7    29.5   24.5   34.8   14.2   10.8   17.9",
      "text/html": "<div>\n<style scoped>\n    .dataframe tbody tr th:only-of-type {\n        vertical-align: middle;\n    }\n\n    .dataframe tbody tr th {\n        vertical-align: top;\n    }\n\n    .dataframe thead th {\n        text-align: right;\n    }\n</style>\n<table border=\"1\" class=\"dataframe\">\n  <thead>\n    <tr style=\"text-align: right;\">\n      <th></th>\n      <th>스트레스</th>\n      <th>스트레스남학생</th>\n      <th>스트레스여학생</th>\n      <th>우울감경험률</th>\n      <th>우울남학생</th>\n      <th>우울여학생</th>\n      <th>자살생각율</th>\n      <th>자살남학생</th>\n      <th>자살여학생</th>\n    </tr>\n  </thead>\n  <tbody>\n    <tr>\n      <th>0</th>\n      <td>41.6</td>\n      <td>34</td>\n      <td>49.7</td>\n      <td>29.5</td>\n      <td>24.5</td>\n      <td>34.8</td>\n      <td>14.2</td>\n      <td>10.8</td>\n      <td>17.9</td>\n    </tr>\n  </tbody>\n</table>\n</div>"
     },
     "execution_count": 46,
     "metadata": {},
     "output_type": "execute_result"
    }
   ],
   "source": [
    "col_names = ['스트레스', '스트레스남학생', '스트레스여학생', '우울감경험률', '우울남학생', '우울여학생', '자살생각율', '자살남학생', '자살여학생']\n",
    "pd.read_csv('data/teenage_mental.txt', sep='\\t', header=1, usecols=[2, 3, 4, 5, 6, 7, 8, 9, 10], names=col_names)"
   ],
   "metadata": {
    "collapsed": false,
    "pycharm": {
     "name": "#%%\n"
    }
   }
  },
  {
   "cell_type": "code",
   "execution_count": 47,
   "outputs": [
    {
     "data": {
      "text/plain": "   스트레스  스트레스남학생  스트레스여학생  우울감경험률  우울남학생  우울여학생  자살생각율  자살남학생  자살여학생\n0  41.6       34     49.7    29.5   24.5   34.8   14.2   10.8   17.9",
      "text/html": "<div>\n<style scoped>\n    .dataframe tbody tr th:only-of-type {\n        vertical-align: middle;\n    }\n\n    .dataframe tbody tr th {\n        vertical-align: top;\n    }\n\n    .dataframe thead th {\n        text-align: right;\n    }\n</style>\n<table border=\"1\" class=\"dataframe\">\n  <thead>\n    <tr style=\"text-align: right;\">\n      <th></th>\n      <th>스트레스</th>\n      <th>스트레스남학생</th>\n      <th>스트레스여학생</th>\n      <th>우울감경험률</th>\n      <th>우울남학생</th>\n      <th>우울여학생</th>\n      <th>자살생각율</th>\n      <th>자살남학생</th>\n      <th>자살여학생</th>\n    </tr>\n  </thead>\n  <tbody>\n    <tr>\n      <th>0</th>\n      <td>41.6</td>\n      <td>34</td>\n      <td>49.7</td>\n      <td>29.5</td>\n      <td>24.5</td>\n      <td>34.8</td>\n      <td>14.2</td>\n      <td>10.8</td>\n      <td>17.9</td>\n    </tr>\n  </tbody>\n</table>\n</div>"
     },
     "execution_count": 47,
     "metadata": {},
     "output_type": "execute_result"
    }
   ],
   "source": [
    "raw_data = pd.read_csv('data/teenage_mental.txt', sep='\\t', header=1, usecols=[2, 3, 4, 5, 6, 7, 8, 9, 10], names=col_names)\n",
    "raw_data"
   ],
   "metadata": {
    "collapsed": false,
    "pycharm": {
     "name": "#%%\n"
    }
   }
  },
  {
   "cell_type": "code",
   "execution_count": 49,
   "outputs": [
    {
     "data": {
      "text/plain": "   스트레스  스트레스남학생  스트레스여학생  우울감경험률  우울남학생  우울여학생  자살생각율  자살남학생  자살여학생\n0  41.6     34.0     49.7    29.5   24.5   34.8   14.2   10.8   17.9\n1  58.4     66.0     50.3    70.5   75.5   65.2   85.8   89.2   82.1",
      "text/html": "<div>\n<style scoped>\n    .dataframe tbody tr th:only-of-type {\n        vertical-align: middle;\n    }\n\n    .dataframe tbody tr th {\n        vertical-align: top;\n    }\n\n    .dataframe thead th {\n        text-align: right;\n    }\n</style>\n<table border=\"1\" class=\"dataframe\">\n  <thead>\n    <tr style=\"text-align: right;\">\n      <th></th>\n      <th>스트레스</th>\n      <th>스트레스남학생</th>\n      <th>스트레스여학생</th>\n      <th>우울감경험률</th>\n      <th>우울남학생</th>\n      <th>우울여학생</th>\n      <th>자살생각율</th>\n      <th>자살남학생</th>\n      <th>자살여학생</th>\n    </tr>\n  </thead>\n  <tbody>\n    <tr>\n      <th>0</th>\n      <td>41.6</td>\n      <td>34.0</td>\n      <td>49.7</td>\n      <td>29.5</td>\n      <td>24.5</td>\n      <td>34.8</td>\n      <td>14.2</td>\n      <td>10.8</td>\n      <td>17.9</td>\n    </tr>\n    <tr>\n      <th>1</th>\n      <td>58.4</td>\n      <td>66.0</td>\n      <td>50.3</td>\n      <td>70.5</td>\n      <td>75.5</td>\n      <td>65.2</td>\n      <td>85.8</td>\n      <td>89.2</td>\n      <td>82.1</td>\n    </tr>\n  </tbody>\n</table>\n</div>"
     },
     "execution_count": 49,
     "metadata": {},
     "output_type": "execute_result"
    }
   ],
   "source": [
    "raw_data.loc[1] = 100. - raw_data.loc[0]\n",
    "raw_data"
   ],
   "metadata": {
    "collapsed": false,
    "pycharm": {
     "name": "#%%\n"
    }
   }
  },
  {
   "cell_type": "code",
   "execution_count": 50,
   "outputs": [
    {
     "data": {
      "text/plain": "   스트레스  스트레스남학생  스트레스여학생  우울감경험률  우울남학생  우울여학생  자살생각율  자살남학생  자살여학생   응답\n0  41.6     34.0     49.7    29.5   24.5   34.8   14.2   10.8   17.9  그렇다\n1  58.4     66.0     50.3    70.5   75.5   65.2   85.8   89.2   82.1  아니다",
      "text/html": "<div>\n<style scoped>\n    .dataframe tbody tr th:only-of-type {\n        vertical-align: middle;\n    }\n\n    .dataframe tbody tr th {\n        vertical-align: top;\n    }\n\n    .dataframe thead th {\n        text-align: right;\n    }\n</style>\n<table border=\"1\" class=\"dataframe\">\n  <thead>\n    <tr style=\"text-align: right;\">\n      <th></th>\n      <th>스트레스</th>\n      <th>스트레스남학생</th>\n      <th>스트레스여학생</th>\n      <th>우울감경험률</th>\n      <th>우울남학생</th>\n      <th>우울여학생</th>\n      <th>자살생각율</th>\n      <th>자살남학생</th>\n      <th>자살여학생</th>\n      <th>응답</th>\n    </tr>\n  </thead>\n  <tbody>\n    <tr>\n      <th>0</th>\n      <td>41.6</td>\n      <td>34.0</td>\n      <td>49.7</td>\n      <td>29.5</td>\n      <td>24.5</td>\n      <td>34.8</td>\n      <td>14.2</td>\n      <td>10.8</td>\n      <td>17.9</td>\n      <td>그렇다</td>\n    </tr>\n    <tr>\n      <th>1</th>\n      <td>58.4</td>\n      <td>66.0</td>\n      <td>50.3</td>\n      <td>70.5</td>\n      <td>75.5</td>\n      <td>65.2</td>\n      <td>85.8</td>\n      <td>89.2</td>\n      <td>82.1</td>\n      <td>아니다</td>\n    </tr>\n  </tbody>\n</table>\n</div>"
     },
     "execution_count": 50,
     "metadata": {},
     "output_type": "execute_result"
    }
   ],
   "source": [
    "raw_data['응답'] = ['그렇다', '아니다']\n",
    "raw_data"
   ],
   "metadata": {
    "collapsed": false,
    "pycharm": {
     "name": "#%%\n"
    }
   }
  },
  {
   "cell_type": "code",
   "execution_count": 51,
   "outputs": [
    {
     "data": {
      "text/plain": "     스트레스  스트레스남학생  스트레스여학생  우울감경험률  우울남학생  우울여학생  자살생각율  자살남학생  자살여학생\n응답                                                                    \n그렇다  41.6     34.0     49.7    29.5   24.5   34.8   14.2   10.8   17.9\n아니다  58.4     66.0     50.3    70.5   75.5   65.2   85.8   89.2   82.1",
      "text/html": "<div>\n<style scoped>\n    .dataframe tbody tr th:only-of-type {\n        vertical-align: middle;\n    }\n\n    .dataframe tbody tr th {\n        vertical-align: top;\n    }\n\n    .dataframe thead th {\n        text-align: right;\n    }\n</style>\n<table border=\"1\" class=\"dataframe\">\n  <thead>\n    <tr style=\"text-align: right;\">\n      <th></th>\n      <th>스트레스</th>\n      <th>스트레스남학생</th>\n      <th>스트레스여학생</th>\n      <th>우울감경험률</th>\n      <th>우울남학생</th>\n      <th>우울여학생</th>\n      <th>자살생각율</th>\n      <th>자살남학생</th>\n      <th>자살여학생</th>\n    </tr>\n    <tr>\n      <th>응답</th>\n      <th></th>\n      <th></th>\n      <th></th>\n      <th></th>\n      <th></th>\n      <th></th>\n      <th></th>\n      <th></th>\n      <th></th>\n    </tr>\n  </thead>\n  <tbody>\n    <tr>\n      <th>그렇다</th>\n      <td>41.6</td>\n      <td>34.0</td>\n      <td>49.7</td>\n      <td>29.5</td>\n      <td>24.5</td>\n      <td>34.8</td>\n      <td>14.2</td>\n      <td>10.8</td>\n      <td>17.9</td>\n    </tr>\n    <tr>\n      <th>아니다</th>\n      <td>58.4</td>\n      <td>66.0</td>\n      <td>50.3</td>\n      <td>70.5</td>\n      <td>75.5</td>\n      <td>65.2</td>\n      <td>85.8</td>\n      <td>89.2</td>\n      <td>82.1</td>\n    </tr>\n  </tbody>\n</table>\n</div>"
     },
     "execution_count": 51,
     "metadata": {},
     "output_type": "execute_result"
    }
   ],
   "source": [
    "raw_data.set_index('응답', drop=True, inplace=True)\n",
    "raw_data"
   ],
   "metadata": {
    "collapsed": false,
    "pycharm": {
     "name": "#%%\n"
    }
   }
  },
  {
   "cell_type": "code",
   "execution_count": null,
   "outputs": [],
   "source": [],
   "metadata": {
    "collapsed": false,
    "pycharm": {
     "name": "#%%\n"
    }
   }
  }
 ],
 "metadata": {
  "kernelspec": {
   "display_name": "Python 3",
   "language": "python",
   "name": "python3"
  },
  "language_info": {
   "codemirror_mode": {
    "name": "ipython",
    "version": 2
   },
   "file_extension": ".py",
   "mimetype": "text/x-python",
   "name": "python",
   "nbconvert_exporter": "python",
   "pygments_lexer": "ipython2",
   "version": "2.7.6"
  }
 },
 "nbformat": 4,
 "nbformat_minor": 0
}